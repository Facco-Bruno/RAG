{
  "cells": [
    {
      "cell_type": "markdown",
      "metadata": {
        "id": "view-in-github",
        "colab_type": "text"
      },
      "source": [
        "<a href=\"https://colab.research.google.com/github/Facco-Bruno/RAG/blob/Master/RAG_Text_to_SQL.ipynb\" target=\"_parent\"><img src=\"https://colab.research.google.com/assets/colab-badge.svg\" alt=\"Open In Colab\"/></a>"
      ]
    },
    {
      "cell_type": "markdown",
      "source": [
        "## RAG (Retrieval Augmented Generation)"
      ],
      "metadata": {
        "id": "tE4Knq09LH4s"
      }
    },
    {
      "cell_type": "markdown",
      "source": [
        "### APPLICATION - TEXT - TO - SQL GENERATOR"
      ],
      "metadata": {
        "id": "p0gBjkZeT5ZV"
      }
    },
    {
      "cell_type": "markdown",
      "source": [
        "Conforme a figura 1, a ideia é desenvolver uma aplicação do tipo Text - to - SQL, podendo ser feito de diferentes formas e utilizando diferentes ferramentas/modelos. Devido a performance e também facilidade de utilização, foi utilizado a API da OPEN AI para geração de dois exemplos, um construindo uma ferramenta para aprendizado da linguagem SQL, e um aplicando gerador de querys e respostas a partir de bases de dados adicionadas no sistema."
      ],
      "metadata": {
        "id": "xgQwGNJ1T9Qa"
      }
    },
    {
      "cell_type": "markdown",
      "metadata": {
        "id": "w9vxRw0EV9Ty"
      },
      "source": [
        "#### EXEMPLO USANDO LLAMA INDEX COM GPT"
      ]
    },
    {
      "cell_type": "markdown",
      "source": [
        "##### PARTE 1: QUERY ENGINE"
      ],
      "metadata": {
        "id": "fKCv1W5xmXJX"
      }
    },
    {
      "cell_type": "code",
      "execution_count": null,
      "metadata": {
        "id": "vE2291okWBrm"
      },
      "outputs": [],
      "source": [
        "!pip install -q llama-index-llms-openai\n",
        "!pip install -q llama-index\n",
        "!pip install -q cohere\n",
        "!pip install -q openai"
      ]
    },
    {
      "cell_type": "code",
      "source": [
        "import os\n",
        "import openai"
      ],
      "metadata": {
        "id": "rn0-ileKe48K"
      },
      "execution_count": null,
      "outputs": []
    },
    {
      "cell_type": "code",
      "source": [
        "os.environ[\"OPENAI_API_KEY\"] = \"XXXXXXXXXXXXXXXXXXXXX\"\n",
        "openai.api_key = os.environ[\"OPENAI_API_KEY\"]"
      ],
      "metadata": {
        "id": "OqNUkNele8cL"
      },
      "execution_count": null,
      "outputs": []
    },
    {
      "cell_type": "code",
      "execution_count": null,
      "metadata": {
        "id": "jQdtv0IcXqXs"
      },
      "outputs": [],
      "source": [
        "from IPython.display import Markdown, display"
      ]
    },
    {
      "cell_type": "code",
      "source": [
        "from sqlalchemy import (create_engine, MetaData, Table, Column, String, Integer,select)"
      ],
      "metadata": {
        "id": "QTTrLEivZVeT"
      },
      "execution_count": null,
      "outputs": []
    },
    {
      "cell_type": "code",
      "source": [
        "from llama_index.core import SQLDatabase\n",
        "from llama_index.llms.openai import OpenAI"
      ],
      "metadata": {
        "id": "bSqqV3VpEpyP"
      },
      "execution_count": null,
      "outputs": []
    },
    {
      "cell_type": "code",
      "execution_count": null,
      "metadata": {
        "id": "pZP1Rg1mXrN9"
      },
      "outputs": [],
      "source": [
        "engine = create_engine(\"sqlite:///:memory:\")\n",
        "metadata_obj = MetaData()"
      ]
    },
    {
      "cell_type": "code",
      "execution_count": null,
      "metadata": {
        "id": "fJjn4VpEXvpP"
      },
      "outputs": [],
      "source": [
        "# create city SQL table\n",
        "table_name = \"city_stats\"\n",
        "city_stats_table = Table(\n",
        "    table_name,\n",
        "    metadata_obj,\n",
        "    Column(\"city_name\", String(16), primary_key=True),\n",
        "    Column(\"population\", Integer),\n",
        "    Column(\"country\", String(16), nullable=False),\n",
        ")\n",
        "metadata_obj.create_all(engine)"
      ]
    },
    {
      "cell_type": "code",
      "execution_count": null,
      "metadata": {
        "id": "SwO13wS4YSUv"
      },
      "outputs": [],
      "source": [
        "llm = OpenAI(temperature=0.1, model=\"gpt-3.5-turbo\")"
      ]
    },
    {
      "cell_type": "code",
      "execution_count": null,
      "metadata": {
        "id": "diCTp4HBYUUR"
      },
      "outputs": [],
      "source": [
        "sql_database = SQLDatabase(engine, include_tables=[\"city_stats\"])"
      ]
    },
    {
      "cell_type": "code",
      "execution_count": null,
      "metadata": {
        "id": "9MTrj0w8YqpX"
      },
      "outputs": [],
      "source": [
        "sql_database = SQLDatabase(engine, include_tables=[\"city_stats\"])\n",
        "from sqlalchemy import insert\n",
        "\n",
        "rows = [\n",
        "    {\"city_name\": \"Toronto\", \"population\": 2930000, \"country\": \"Canada\"},\n",
        "    {\"city_name\": \"Tokyo\", \"population\": 13960000, \"country\": \"Japan\"},\n",
        "    {\"city_name\": \"Chicago\", \"population\": 2679000,\"country\": \"United States\"},\n",
        "    {\"city_name\": \"Seoul\", \"population\": 9776000, \"country\": \"South Korea\"},\n",
        "]\n",
        "for row in rows:\n",
        "    stmt = insert(city_stats_table).values(**row)\n",
        "    with engine.begin() as connection:\n",
        "        cursor = connection.execute(stmt)"
      ]
    },
    {
      "cell_type": "code",
      "execution_count": null,
      "metadata": {
        "colab": {
          "base_uri": "https://localhost:8080/"
        },
        "id": "S_F5wxh7YwT8",
        "outputId": "038644da-732e-4f29-be44-52032c27330b"
      },
      "outputs": [
        {
          "output_type": "stream",
          "name": "stdout",
          "text": [
            "[('Toronto', 2930000, 'Canada'), ('Tokyo', 13960000, 'Japan'), ('Chicago', 2679000, 'United States'), ('Seoul', 9776000, 'South Korea')]\n"
          ]
        }
      ],
      "source": [
        "# view current table\n",
        "stmt = select(\n",
        "    city_stats_table.c.city_name,\n",
        "    city_stats_table.c.population,\n",
        "    city_stats_table.c.country,\n",
        ").select_from(city_stats_table)\n",
        "\n",
        "with engine.connect() as connection:\n",
        "    results = connection.execute(stmt).fetchall()\n",
        "    print(results)"
      ]
    },
    {
      "cell_type": "code",
      "execution_count": null,
      "metadata": {
        "colab": {
          "base_uri": "https://localhost:8080/"
        },
        "id": "u059rSebYy-v",
        "outputId": "7c230ea5-1131-43bb-d956-a92a49fa900f"
      },
      "outputs": [
        {
          "output_type": "stream",
          "name": "stdout",
          "text": [
            "('Chicago',)\n",
            "('Seoul',)\n",
            "('Tokyo',)\n",
            "('Toronto',)\n"
          ]
        }
      ],
      "source": [
        "from sqlalchemy import text\n",
        "\n",
        "with engine.connect() as con:\n",
        "    rows = con.execute(text(\"SELECT city_name from city_stats\"))\n",
        "    for row in rows:\n",
        "        print(row)"
      ]
    },
    {
      "cell_type": "code",
      "execution_count": null,
      "metadata": {
        "id": "-V33CAuPYzxS"
      },
      "outputs": [],
      "source": [
        "from llama_index.core.query_engine import NLSQLTableQueryEngine\n",
        "\n",
        "query_engine = NLSQLTableQueryEngine(\n",
        "    sql_database=sql_database, tables=[\"city_stats\"], llm=llm\n",
        ")\n",
        "\n",
        "query_str = \"Which city has the highest population?\"\n",
        "response = query_engine.query(query_str)"
      ]
    },
    {
      "cell_type": "code",
      "execution_count": null,
      "metadata": {
        "id": "a6yWa4G62Nm1",
        "colab": {
          "base_uri": "https://localhost:8080/",
          "height": 46
        },
        "outputId": "45012ddd-da49-4a03-d382-138f922104eb"
      },
      "outputs": [
        {
          "output_type": "display_data",
          "data": {
            "text/plain": [
              "<IPython.core.display.Markdown object>"
            ],
            "text/markdown": "<b>The city with the highest population is Tokyo.</b>"
          },
          "metadata": {}
        }
      ],
      "source": [
        "display(Markdown(f\"<b>{response}</b>\"))"
      ]
    },
    {
      "cell_type": "markdown",
      "source": [
        "##### PARTE 2 - QUERY TIME RETRIEVAL"
      ],
      "metadata": {
        "id": "1BENca9Umau6"
      }
    },
    {
      "cell_type": "code",
      "source": [
        "from llama_index.core.indices.struct_store.sql_query import (\n",
        "    SQLTableRetrieverQueryEngine,\n",
        ")\n",
        "from llama_index.core.objects import (\n",
        "    SQLTableNodeMapping,\n",
        "    ObjectIndex,\n",
        "    SQLTableSchema,\n",
        ")\n",
        "from llama_index.core import VectorStoreIndex\n",
        "\n",
        "# set Logging to DEBUG for more detailed outputs\n",
        "table_node_mapping = SQLTableNodeMapping(sql_database)\n",
        "table_schema_objs = [\n",
        "    (SQLTableSchema(table_name=\"city_stats\"))\n",
        "]  # add a SQLTableSchema for each table\n",
        "\n",
        "obj_index = ObjectIndex.from_objects(\n",
        "    table_schema_objs,\n",
        "    table_node_mapping,\n",
        "    VectorStoreIndex,\n",
        ")\n",
        "query_engine = SQLTableRetrieverQueryEngine(\n",
        "    sql_database, obj_index.as_retriever(similarity_top_k=1)\n",
        ")"
      ],
      "metadata": {
        "id": "MmBvAgQWqIXS"
      },
      "execution_count": null,
      "outputs": []
    },
    {
      "cell_type": "code",
      "source": [
        "response = query_engine.query(\"Which city has the highest population?\")\n",
        "display(Markdown(f\"<b>{response}</b>\"))"
      ],
      "metadata": {
        "colab": {
          "base_uri": "https://localhost:8080/",
          "height": 46
        },
        "id": "WeSvn2amqKUI",
        "outputId": "a0a42322-f78b-4102-87f4-5ad2645c288f"
      },
      "execution_count": null,
      "outputs": [
        {
          "output_type": "display_data",
          "data": {
            "text/plain": [
              "<IPython.core.display.Markdown object>"
            ],
            "text/markdown": "<b>The city with the highest population is Tokyo.</b>"
          },
          "metadata": {}
        }
      ]
    },
    {
      "cell_type": "code",
      "source": [
        "response.metadata[\"result\"]"
      ],
      "metadata": {
        "colab": {
          "base_uri": "https://localhost:8080/"
        },
        "id": "ntCeMMa-qMJ8",
        "outputId": "35a684db-eda1-4131-c523-4b4964ffa56e"
      },
      "execution_count": null,
      "outputs": [
        {
          "output_type": "execute_result",
          "data": {
            "text/plain": [
              "[('Tokyo',)]"
            ]
          },
          "metadata": {},
          "execution_count": 35
        }
      ]
    },
    {
      "cell_type": "code",
      "source": [
        "city_stats_text = (\n",
        "    \"This table gives information regarding the population and country of a\"\n",
        "    \" given city.\\nThe user will query with codewords, where 'foo' corresponds\"\n",
        "    \" to population and 'bar'corresponds to city.\"\n",
        ")\n",
        "\n",
        "table_node_mapping = SQLTableNodeMapping(sql_database)\n",
        "table_schema_objs = [\n",
        "    (SQLTableSchema(table_name=\"city_stats\", context_str=city_stats_text))\n",
        "]"
      ],
      "metadata": {
        "id": "W29NWEHqqOSM"
      },
      "execution_count": null,
      "outputs": []
    },
    {
      "cell_type": "markdown",
      "source": [
        "##### PARTE 3: TEXT-TO-SQL RETRIEVER"
      ],
      "metadata": {
        "id": "NUqgx1FEqd65"
      }
    },
    {
      "cell_type": "code",
      "source": [
        "from llama_index.core.retrievers import NLSQLRetriever\n",
        "\n",
        "# default retrieval (return_raw=True)\n",
        "nl_sql_retriever = NLSQLRetriever(\n",
        "    sql_database, tables=[\"city_stats\"], return_raw=True\n",
        ")"
      ],
      "metadata": {
        "id": "Iqkp163Aql2E"
      },
      "execution_count": null,
      "outputs": []
    },
    {
      "cell_type": "code",
      "source": [
        "results = nl_sql_retriever.retrieve(\n",
        "    \"Return the top 5 cities (along with their populations) with the highest population.\"\n",
        ")"
      ],
      "metadata": {
        "id": "XjInhO3iqoWR"
      },
      "execution_count": null,
      "outputs": []
    },
    {
      "cell_type": "code",
      "source": [
        "from llama_index.core.response.notebook_utils import display_source_node\n",
        "\n",
        "for n in results:\n",
        "    display_source_node(n)"
      ],
      "metadata": {
        "colab": {
          "base_uri": "https://localhost:8080/",
          "height": 81
        },
        "id": "bSpR5csJqxYJ",
        "outputId": "a586dac4-0698-4931-a441-568475e98679"
      },
      "execution_count": null,
      "outputs": [
        {
          "output_type": "display_data",
          "data": {
            "text/plain": [
              "<IPython.core.display.Markdown object>"
            ],
            "text/markdown": "**Node ID:** 84c6c6b3-2215-44a9-88ab-c69a5c111163<br>**Similarity:** None<br>**Text:** [('Tokyo', 13960000), ('Seoul', 9776000), ('Toronto', 2930000), ('Chicago', 2679000)]<br>"
          },
          "metadata": {}
        }
      ]
    },
    {
      "cell_type": "code",
      "source": [
        "nl_sql_retriever = NLSQLRetriever(\n",
        "    sql_database, tables=[\"city_stats\"], return_raw=False\n",
        ")"
      ],
      "metadata": {
        "id": "el-eOaAgqy_Y"
      },
      "execution_count": null,
      "outputs": []
    },
    {
      "cell_type": "code",
      "source": [
        "results = nl_sql_retriever.retrieve(\n",
        "    \"Return the top 5 cities (along with their populations) with the highest population.\"\n",
        ")"
      ],
      "metadata": {
        "id": "g5MxaU4Gq0lg"
      },
      "execution_count": null,
      "outputs": []
    },
    {
      "cell_type": "code",
      "source": [
        "for n in results:\n",
        "    display_source_node(n, show_source_metadata=True)"
      ],
      "metadata": {
        "colab": {
          "base_uri": "https://localhost:8080/",
          "height": 325
        },
        "id": "C5UhfQHCq2Ak",
        "outputId": "809ee489-63d1-416f-e2cb-8e348e9f503d"
      },
      "execution_count": null,
      "outputs": [
        {
          "output_type": "display_data",
          "data": {
            "text/plain": [
              "<IPython.core.display.Markdown object>"
            ],
            "text/markdown": "**Node ID:** a91b7248-7960-4002-932e-2acb31f403f3<br>**Similarity:** None<br>**Text:** <br>**Metadata:** {'city_name': 'Tokyo', 'population': 13960000}<br>"
          },
          "metadata": {}
        },
        {
          "output_type": "display_data",
          "data": {
            "text/plain": [
              "<IPython.core.display.Markdown object>"
            ],
            "text/markdown": "**Node ID:** 4b18d4fe-610d-4d5b-9c3f-b274f21e05f2<br>**Similarity:** None<br>**Text:** <br>**Metadata:** {'city_name': 'Seoul', 'population': 9776000}<br>"
          },
          "metadata": {}
        },
        {
          "output_type": "display_data",
          "data": {
            "text/plain": [
              "<IPython.core.display.Markdown object>"
            ],
            "text/markdown": "**Node ID:** 84fa65f1-0d70-4e2d-90ca-4fb93e27e21b<br>**Similarity:** None<br>**Text:** <br>**Metadata:** {'city_name': 'Toronto', 'population': 2930000}<br>"
          },
          "metadata": {}
        },
        {
          "output_type": "display_data",
          "data": {
            "text/plain": [
              "<IPython.core.display.Markdown object>"
            ],
            "text/markdown": "**Node ID:** e7f80741-7358-410a-945c-f595048282ef<br>**Similarity:** None<br>**Text:** <br>**Metadata:** {'city_name': 'Chicago', 'population': 2679000}<br>"
          },
          "metadata": {}
        }
      ]
    },
    {
      "cell_type": "code",
      "source": [
        "from llama_index.core.query_engine import RetrieverQueryEngine\n",
        "\n",
        "query_engine = RetrieverQueryEngine.from_args(nl_sql_retriever)"
      ],
      "metadata": {
        "id": "K1h75S05q9bX"
      },
      "execution_count": null,
      "outputs": []
    },
    {
      "cell_type": "code",
      "source": [
        "response = query_engine.query(\n",
        "    \"Return the top 5 cities (along with their populations) with the highest population.\"\n",
        ")"
      ],
      "metadata": {
        "id": "dJ7D_o2mrBMv"
      },
      "execution_count": null,
      "outputs": []
    },
    {
      "cell_type": "code",
      "source": [
        "print(str(response))"
      ],
      "metadata": {
        "colab": {
          "base_uri": "https://localhost:8080/"
        },
        "id": "vgCoLMnDrB5p",
        "outputId": "a7c9ed58-da70-4598-f032-7a38775464b9"
      },
      "execution_count": null,
      "outputs": [
        {
          "output_type": "stream",
          "name": "stdout",
          "text": [
            "The top 5 cities with the highest population are:\n",
            "\n",
            "1. Tokyo - 13,960,000\n",
            "2. Seoul - 9,776,000\n",
            "3. Toronto - 2,930,000\n",
            "4. Chicago - 2,679,000\n"
          ]
        }
      ]
    },
    {
      "cell_type": "markdown",
      "source": [
        "#### APLICAÇÃO COM LLAMA INDEX USANDO MAIS DE UMA TABELA PARA GERAR QUERYS"
      ],
      "metadata": {
        "id": "GGDz7Ag9Dx7u"
      }
    },
    {
      "cell_type": "code",
      "source": [
        "!pip install -q llama-index-llms-openai\n",
        "!pip install -q llama-index\n",
        "!pip install -q cohere\n",
        "!pip install -q openai"
      ],
      "metadata": {
        "id": "eX39CsNCS63j",
        "colab": {
          "base_uri": "https://localhost:8080/"
        },
        "outputId": "17f20d1c-086c-4412-8c76-904c13261c9d"
      },
      "execution_count": null,
      "outputs": [
        {
          "output_type": "stream",
          "name": "stdout",
          "text": [
            "\u001b[2K     \u001b[90m━━━━━━━━━━━━━━━━━━━━━━━━━━━━━━━━━━━━━━━━\u001b[0m \u001b[32m15.4/15.4 MB\u001b[0m \u001b[31m45.0 MB/s\u001b[0m eta \u001b[36m0:00:00\u001b[0m\n",
            "\u001b[2K     \u001b[90m━━━━━━━━━━━━━━━━━━━━━━━━━━━━━━━━━━━━━━━━\u001b[0m \u001b[32m75.6/75.6 kB\u001b[0m \u001b[31m6.2 MB/s\u001b[0m eta \u001b[36m0:00:00\u001b[0m\n",
            "\u001b[2K     \u001b[90m━━━━━━━━━━━━━━━━━━━━━━━━━━━━━━━━━━━━━━━━\u001b[0m \u001b[32m108.0/108.0 kB\u001b[0m \u001b[31m7.5 MB/s\u001b[0m eta \u001b[36m0:00:00\u001b[0m\n",
            "\u001b[2K     \u001b[90m━━━━━━━━━━━━━━━━━━━━━━━━━━━━━━━━━━━━━━━━\u001b[0m \u001b[32m262.4/262.4 kB\u001b[0m \u001b[31m15.2 MB/s\u001b[0m eta \u001b[36m0:00:00\u001b[0m\n",
            "\u001b[2K     \u001b[90m━━━━━━━━━━━━━━━━━━━━━━━━━━━━━━━━━━━━━━━━\u001b[0m \u001b[32m1.8/1.8 MB\u001b[0m \u001b[31m49.2 MB/s\u001b[0m eta \u001b[36m0:00:00\u001b[0m\n",
            "\u001b[2K     \u001b[90m━━━━━━━━━━━━━━━━━━━━━━━━━━━━━━━━━━━━━━━━\u001b[0m \u001b[32m77.8/77.8 kB\u001b[0m \u001b[31m6.0 MB/s\u001b[0m eta \u001b[36m0:00:00\u001b[0m\n",
            "\u001b[2K     \u001b[90m━━━━━━━━━━━━━━━━━━━━━━━━━━━━━━━━━━━━━━━━\u001b[0m \u001b[32m58.3/58.3 kB\u001b[0m \u001b[31m4.5 MB/s\u001b[0m eta \u001b[36m0:00:00\u001b[0m\n",
            "\u001b[2K     \u001b[90m━━━━━━━━━━━━━━━━━━━━━━━━━━━━━━━━━━━━━━━━\u001b[0m \u001b[32m49.4/49.4 kB\u001b[0m \u001b[31m1.0 MB/s\u001b[0m eta \u001b[36m0:00:00\u001b[0m\n",
            "\u001b[2K     \u001b[90m━━━━━━━━━━━━━━━━━━━━━━━━━━━━━━━━━━━━━━━━\u001b[0m \u001b[32m2.0/2.0 MB\u001b[0m \u001b[31m25.2 MB/s\u001b[0m eta \u001b[36m0:00:00\u001b[0m\n",
            "\u001b[2K     \u001b[90m━━━━━━━━━━━━━━━━━━━━━━━━━━━━━━━━━━━━━━━━\u001b[0m \u001b[32m3.9/3.9 MB\u001b[0m \u001b[31m54.3 MB/s\u001b[0m eta \u001b[36m0:00:00\u001b[0m\n",
            "\u001b[2K     \u001b[90m━━━━━━━━━━━━━━━━━━━━━━━━━━━━━━━━━━━━━━━━\u001b[0m \u001b[32m286.1/286.1 kB\u001b[0m \u001b[31m28.5 MB/s\u001b[0m eta \u001b[36m0:00:00\u001b[0m\n",
            "\u001b[2K     \u001b[90m━━━━━━━━━━━━━━━━━━━━━━━━━━━━━━━━━━━━━━━━\u001b[0m \u001b[32m30.8/30.8 MB\u001b[0m \u001b[31m32.8 MB/s\u001b[0m eta \u001b[36m0:00:00\u001b[0m\n",
            "\u001b[2K     \u001b[90m━━━━━━━━━━━━━━━━━━━━━━━━━━━━━━━━━━━━━━━━\u001b[0m \u001b[32m142.4/142.4 kB\u001b[0m \u001b[31m2.9 MB/s\u001b[0m eta \u001b[36m0:00:00\u001b[0m\n",
            "\u001b[?25h"
          ]
        }
      ]
    },
    {
      "cell_type": "code",
      "source": [
        "from llama_index.core import SQLDatabase\n",
        "from llama_index.llms.openai import OpenAI\n",
        "from sqlalchemy import insert\n",
        "import openai\n",
        "import os\n",
        "from sqlalchemy import (create_engine,MetaData,Table,Column,String,Integer,select)\n",
        "from IPython.display import Markdown, display"
      ],
      "metadata": {
        "id": "w02_Z9w2UXQg"
      },
      "execution_count": null,
      "outputs": []
    },
    {
      "cell_type": "code",
      "source": [
        "os.environ[\"OPENAI_API_KEY\"] = \"xxxxxxxxxxxxxxx\"\n",
        "openai.api_key = os.environ[\"OPENAI_API_KEY\"]"
      ],
      "metadata": {
        "id": "PYwJxFVnj8dT"
      },
      "execution_count": null,
      "outputs": []
    },
    {
      "cell_type": "code",
      "source": [
        "llm = OpenAI(temperature=0.1, model=\"gpt-3.5-turbo\")"
      ],
      "metadata": {
        "id": "onp4enwVEj5g"
      },
      "execution_count": null,
      "outputs": []
    },
    {
      "cell_type": "code",
      "source": [
        "engine = create_engine(\"sqlite:///:memory:\")\n",
        "metadata_obj = MetaData()"
      ],
      "metadata": {
        "id": "8Btn0F6AD4cy"
      },
      "execution_count": null,
      "outputs": []
    },
    {
      "cell_type": "markdown",
      "source": [
        "##### PARTE 1 - ENGINE QUERY"
      ],
      "metadata": {
        "id": "wny7YyaXoNb2"
      }
    },
    {
      "cell_type": "markdown",
      "source": [
        "###### TABELA 1"
      ],
      "metadata": {
        "id": "u0Hpm4FmGtUe"
      }
    },
    {
      "cell_type": "code",
      "source": [
        "table_name = \"city_stats\"\n",
        "city_stats_table = Table(\n",
        "    table_name,\n",
        "    metadata_obj,\n",
        "    Column(\"city_name\", String(16), primary_key=True),\n",
        "    Column(\"population\", Integer),\n",
        "    Column(\"country\", String(16), nullable=False),\n",
        "    Column(\"continent\", String(16), nullable=False),\n",
        ")\n",
        "metadata_obj.create_all(engine)"
      ],
      "metadata": {
        "id": "USERf9n3D4R8"
      },
      "execution_count": null,
      "outputs": []
    },
    {
      "cell_type": "code",
      "source": [
        "sql_database = SQLDatabase(engine, include_tables=[\"city_stats\"])"
      ],
      "metadata": {
        "id": "19OEerKFD4Fz"
      },
      "execution_count": null,
      "outputs": []
    },
    {
      "cell_type": "code",
      "source": [
        "rows = [\n",
        "    {\"city_name\": \"Toronto\", \"population\": 293, \"country\": \"Canada\", \"continent\" : 'America'},\n",
        "    {\"city_name\": \"Quebec\", \"population\": 247, \"country\": \"Canada\", \"continent\" : 'America'},\n",
        "    {\"city_name\": \"Valencia\", \"population\": 167, \"country\": \"Spain\", \"continent\" : 'Europe'},\n",
        "    {\"city_name\": \"Paris\", \"population\": 189, \"country\": \"France\", \"continent\" : 'Europe'},\n",
        "    {\"city_name\": \"Tokyo\", \"population\": 139, \"country\": \"Japan\", \"continent\" : 'Asia'},\n",
        "    {\"city_name\": \"Chicago\", \"population\": 267,\"country\": \"United States\", \"continent\" : 'America'},\n",
        "    {\"city_name\": \"Washington\", \"population\": 250,\"country\": \"United States\", \"continent\" : 'America'},\n",
        "    {\"city_name\": \"Seoul\", \"population\": 97, \"country\": \"South Korea\", \"continent\" : 'Asia'},\n",
        "]\n",
        "\n",
        "for row in rows:\n",
        "    stmt = insert(city_stats_table).values(**row)\n",
        "    with engine.begin() as connection:\n",
        "        cursor = connection.execute(stmt)"
      ],
      "metadata": {
        "id": "mMWiNuTQFY5f"
      },
      "execution_count": null,
      "outputs": []
    },
    {
      "cell_type": "code",
      "source": [
        "stmt = select(\n",
        "    city_stats_table.c.city_name,\n",
        "    city_stats_table.c.population,\n",
        "    city_stats_table.c.country,\n",
        ").select_from(city_stats_table)\n",
        "\n",
        "with engine.connect() as connection:\n",
        "    results = connection.execute(stmt).fetchall()\n",
        "    print(results)"
      ],
      "metadata": {
        "colab": {
          "base_uri": "https://localhost:8080/"
        },
        "id": "6Z9VCFiBFeOV",
        "outputId": "beab8770-d866-44d0-e482-f867495fd328"
      },
      "execution_count": null,
      "outputs": [
        {
          "output_type": "stream",
          "name": "stdout",
          "text": [
            "[('Toronto', 293, 'Canada'), ('Quebec', 247, 'Canada'), ('Valencia', 167, 'Spain'), ('Paris', 189, 'France'), ('Tokyo', 139, 'Japan'), ('Chicago', 267, 'United States'), ('Washington', 250, 'United States'), ('Seoul', 97, 'South Korea')]\n"
          ]
        }
      ]
    },
    {
      "cell_type": "markdown",
      "source": [
        "###### TABELA 2"
      ],
      "metadata": {
        "id": "SRSqhmqgGy87"
      }
    },
    {
      "cell_type": "code",
      "source": [
        "table_name = \"city_economy\"\n",
        "city_economy_table = Table(\n",
        "    table_name,\n",
        "    metadata_obj,\n",
        "    Column(\"city_name\", String(16), primary_key=True),\n",
        "    Column(\"pib\", Integer),\n",
        "    Column(\"rank\", Integer),\n",
        "    Column(\"mean_industry\", String(16), nullable=False),\n",
        ")\n",
        "metadata_obj.create_all(engine)"
      ],
      "metadata": {
        "id": "016ORCmPGGAM"
      },
      "execution_count": null,
      "outputs": []
    },
    {
      "cell_type": "code",
      "source": [
        "sql_database = SQLDatabase(engine, include_tables=[\"city_economy\"])"
      ],
      "metadata": {
        "id": "r2C6H9yGGqHB"
      },
      "execution_count": null,
      "outputs": []
    },
    {
      "cell_type": "code",
      "source": [
        "rows = [\n",
        "    {\"city_name\": \"Toronto\", \"pib\": 120, \"rank\": 3, \"mean_industry\": 'Technology'},\n",
        "    {\"city_name\": \"Quebec\", \"pib\": 90, \"rank\" : 7, \"mean_industry\": 'Technology'},\n",
        "    {\"city_name\": \"Valencia\", \"pib\": 79, \"rank\" : 12, \"mean_industry\": 'Tourism'},\n",
        "    {\"city_name\": \"Paris\", \"pib\": 85, \"rank\": 10, \"mean_industry\": 'Commerce'},\n",
        "    {\"city_name\": \"Tokyo\", \"pib\": 190, \"rank\": 1, \"mean_industry\": 'Technology'},\n",
        "    {\"city_name\": \"Chicago\", \"pib\": 110, \"rank\": 4, \"mean_industry\": 'Finance'},\n",
        "    {\"city_name\": \"Washington\", \"pib\": 100, \"rank\": 5, \"mean_industry\": 'Commerce'},\n",
        "    {\"city_name\": \"Seoul\", \"pib\": 145, \"rank\": 2, \"mean_industry\": 'Technology'},\n",
        "]\n",
        "for row in rows:\n",
        "    stmt = insert(city_economy_table).values(**row)\n",
        "    with engine.begin() as connection:\n",
        "        cursor = connection.execute(stmt)"
      ],
      "metadata": {
        "id": "rRS13EaKGseH"
      },
      "execution_count": null,
      "outputs": []
    },
    {
      "cell_type": "code",
      "source": [
        "stmt = select(\n",
        "    city_economy_table.c.city_name,\n",
        "    city_economy_table.c.pib,\n",
        "    city_economy_table.c.rank,\n",
        "    city_economy_table.c.mean_industry,\n",
        ").select_from(city_economy_table)\n",
        "\n",
        "with engine.connect() as connection:\n",
        "    results = connection.execute(stmt).fetchall()\n",
        "    print(results)"
      ],
      "metadata": {
        "colab": {
          "base_uri": "https://localhost:8080/"
        },
        "id": "IyCjbuMNIo-7",
        "outputId": "d5950261-fa43-4ed4-fbda-379381b17e87"
      },
      "execution_count": null,
      "outputs": [
        {
          "output_type": "stream",
          "name": "stdout",
          "text": [
            "[('Toronto', 120, 3, 'Technology'), ('Quebec', 90, 7, 'Technology'), ('Valencia', 79, 12, 'Tourism'), ('Paris', 85, 10, 'Commerce'), ('Tokyo', 190, 1, 'Technology'), ('Chicago', 110, 4, 'Finance'), ('Washington', 100, 5, 'Commerce'), ('Seoul', 145, 2, 'Technology')]\n"
          ]
        }
      ]
    },
    {
      "cell_type": "markdown",
      "source": [
        "###### TESTANDO"
      ],
      "metadata": {
        "id": "4Iz_MklIUmxl"
      }
    },
    {
      "cell_type": "code",
      "source": [
        "from llama_index.core.query_engine import NLSQLTableQueryEngine\n",
        "\n",
        "query_engine = NLSQLTableQueryEngine(\n",
        "    sql_database=sql_database, tables=[\"city_stats\", \"city_economy\"], llm=llm\n",
        ")"
      ],
      "metadata": {
        "id": "2i9Wr75bJwtg"
      },
      "execution_count": null,
      "outputs": []
    },
    {
      "cell_type": "code",
      "source": [
        "query_str = \"Which is the mean industry from the city with the lowest population?\"\n",
        "response = query_engine.query(query_str)"
      ],
      "metadata": {
        "id": "6G65FO_fLaN5"
      },
      "execution_count": null,
      "outputs": []
    },
    {
      "cell_type": "code",
      "source": [
        "print(response)"
      ],
      "metadata": {
        "colab": {
          "base_uri": "https://localhost:8080/"
        },
        "id": "2oTEz4wkmmnu",
        "outputId": "8062b96b-e58a-445c-900f-907d12f206aa"
      },
      "execution_count": null,
      "outputs": [
        {
          "output_type": "stream",
          "name": "stdout",
          "text": [
            "The city with the lowest population is Seoul, and the mean industry in that city is technology.\n"
          ]
        }
      ]
    },
    {
      "cell_type": "code",
      "source": [
        "print(response.metadata['sql_query'])"
      ],
      "metadata": {
        "colab": {
          "base_uri": "https://localhost:8080/"
        },
        "id": "cSzwTeLnmeSB",
        "outputId": "ba111a58-e4f2-46cf-d0f8-1d7e0191a2a6"
      },
      "execution_count": null,
      "outputs": [
        {
          "output_type": "stream",
          "name": "stdout",
          "text": [
            "SELECT city_name, mean_industry \n",
            "FROM city_economy \n",
            "WHERE city_name = (SELECT city_name \n",
            "                   FROM city_stats \n",
            "                   ORDER BY population ASC \n",
            "                   LIMIT 1)\n"
          ]
        }
      ]
    },
    {
      "cell_type": "code",
      "source": [
        "query_str = \"Which is the total pib from the city with the highest rank in America?\"\n",
        "response = query_engine.query(query_str)"
      ],
      "metadata": {
        "id": "aoLAtcBKLnvF"
      },
      "execution_count": null,
      "outputs": []
    },
    {
      "cell_type": "code",
      "source": [
        "print(response)"
      ],
      "metadata": {
        "colab": {
          "base_uri": "https://localhost:8080/"
        },
        "id": "8Nh96X8PmwiC",
        "outputId": "6ef1c147-c7b0-4af2-8f4a-96af8d26bd9f"
      },
      "execution_count": null,
      "outputs": [
        {
          "output_type": "stream",
          "name": "stdout",
          "text": [
            "The query did not return any results for the city with the highest rank in America. It is possible that there was an error in the data or the city with the highest rank in America does not have its PIB information available in the database.\n"
          ]
        }
      ]
    },
    {
      "cell_type": "code",
      "source": [
        "print(response.metadata['sql_query'])"
      ],
      "metadata": {
        "colab": {
          "base_uri": "https://localhost:8080/"
        },
        "id": "5BRpyJdFMDku",
        "outputId": "3cec0425-20ba-4477-e838-988962e13978"
      },
      "execution_count": null,
      "outputs": [
        {
          "output_type": "stream",
          "name": "stdout",
          "text": [
            "SELECT ce.city_name, ce.pib\n",
            "FROM city_economy ce\n",
            "WHERE ce.rank = (SELECT MAX(rank) FROM city_economy WHERE mean_industry = 'America')\n"
          ]
        }
      ]
    },
    {
      "cell_type": "code",
      "source": [
        "query_str = \"What is the mean industry from the highest pib in asia\"\n",
        "response = query_engine.query(query_str)"
      ],
      "metadata": {
        "id": "bWc7BG9RPi4i"
      },
      "execution_count": null,
      "outputs": []
    },
    {
      "cell_type": "code",
      "source": [
        "print(response)"
      ],
      "metadata": {
        "colab": {
          "base_uri": "https://localhost:8080/"
        },
        "id": "vcdFjZREn9rM",
        "outputId": "20394620-e376-4d6c-9d77-bb8ff4d5aa1f"
      },
      "execution_count": null,
      "outputs": [
        {
          "output_type": "stream",
          "name": "stdout",
          "text": [
            "The mean industry from the city with the highest GDP in Asia is Technology.\n"
          ]
        }
      ]
    },
    {
      "cell_type": "code",
      "source": [
        "print(response.metadata['sql_query'])"
      ],
      "metadata": {
        "colab": {
          "base_uri": "https://localhost:8080/"
        },
        "id": "SUdsmZzTP8aF",
        "outputId": "584bbc67-7d96-4326-9fea-2f65b299e9a8"
      },
      "execution_count": null,
      "outputs": [
        {
          "output_type": "stream",
          "name": "stdout",
          "text": [
            "SELECT ce.mean_industry\n",
            "FROM city_economy ce\n",
            "JOIN city_stats cs ON ce.city_name = cs.city_name\n",
            "WHERE cs.continent = 'Asia'\n",
            "ORDER BY ce.pib DESC\n",
            "LIMIT 1;\n"
          ]
        }
      ]
    },
    {
      "cell_type": "markdown",
      "source": [
        "##### PARTE 2 - QUERY TIME RETRIEVAL"
      ],
      "metadata": {
        "id": "jFO7wIssoWDq"
      }
    },
    {
      "cell_type": "code",
      "source": [
        "from llama_index.core.indices.struct_store.sql_query import (\n",
        "    SQLTableRetrieverQueryEngine,\n",
        ")\n",
        "from llama_index.core.objects import (\n",
        "    SQLTableNodeMapping,\n",
        "    ObjectIndex,\n",
        "    SQLTableSchema,\n",
        ")\n",
        "from llama_index.core import VectorStoreIndex\n",
        "\n",
        "# set Logging to DEBUG for more detailed outputs\n",
        "table_node_mapping = SQLTableNodeMapping(sql_database)\n",
        "table_schema_objs = [\n",
        "    (SQLTableSchema(table_name=\"city_stats\")), (SQLTableSchema(table_name=\"city_economy\"))\n",
        "]  # add a SQLTableSchema for each table\n",
        "\n",
        "obj_index = ObjectIndex.from_objects(\n",
        "    table_schema_objs,\n",
        "    table_node_mapping,\n",
        "    VectorStoreIndex,\n",
        ")\n",
        "query_engine = SQLTableRetrieverQueryEngine(\n",
        "    sql_database, obj_index.as_retriever(similarity_top_k=1)\n",
        ")"
      ],
      "metadata": {
        "id": "axznW_UeofZn"
      },
      "execution_count": null,
      "outputs": []
    },
    {
      "cell_type": "code",
      "source": [
        "response = query_engine.query(\"Which city has the highest population?\")\n",
        "print(response)"
      ],
      "metadata": {
        "colab": {
          "base_uri": "https://localhost:8080/"
        },
        "id": "uLtUG3noCfP_",
        "outputId": "6810215f-57e4-43e3-e46e-8feca9913c50"
      },
      "execution_count": null,
      "outputs": [
        {
          "output_type": "stream",
          "name": "stdout",
          "text": [
            "Toronto has the highest population among the cities listed in the database, with a population of 293.\n"
          ]
        }
      ]
    },
    {
      "cell_type": "code",
      "source": [
        "response = query_engine.query(\"Which city has the highest pi?\")\n",
        "print(response)"
      ],
      "metadata": {
        "colab": {
          "base_uri": "https://localhost:8080/"
        },
        "id": "aRpzD9W8C3V-",
        "outputId": "96fd9168-8aaf-4a9e-d0bc-722a21015554"
      },
      "execution_count": null,
      "outputs": [
        {
          "output_type": "stream",
          "name": "stdout",
          "text": [
            "Tokyo has the highest PIB (GDP) among all cities, with a PIB of 190.\n"
          ]
        }
      ]
    },
    {
      "cell_type": "code",
      "source": [
        "city_stats_text = (\n",
        "    \"This table gives information regarding the population and country of a\"\n",
        "    \" given city.\\nThe user will query with codewords, where 'foo' corresponds\"\n",
        "    \" to population and 'bar'corresponds to city.\"\n",
        ")\n",
        "\n",
        "city_economy_text = (\n",
        "    \"This table gives information regarding the economy and rank of a\"\n",
        "    \" given city.\\nThe user will query with codewords, where 'foo' corresponds\"\n",
        "    \" to population and 'bar'corresponds to city.\"\n",
        ")\n",
        "\n",
        "table_node_mapping = SQLTableNodeMapping(sql_database)\n",
        "table_schema_objs = [\n",
        "    (SQLTableSchema(table_name=\"city_stats\", context_str=city_stats_text)), (SQLTableSchema(table_name=\"city_economy\", context_str=city_economy_text))\n",
        "]"
      ],
      "metadata": {
        "id": "ut2Zu3mMDBKB"
      },
      "execution_count": null,
      "outputs": []
    },
    {
      "cell_type": "markdown",
      "source": [
        "##### PARTE 3 - TEXT - TO - SQL RETRIEVER"
      ],
      "metadata": {
        "id": "y4JWzv_moZ_v"
      }
    },
    {
      "cell_type": "code",
      "source": [
        "from llama_index.core.retrievers import NLSQLRetriever\n",
        "from llama_index.core.query_engine import RetrieverQueryEngine\n",
        "\n",
        "nl_sql_retriever = NLSQLRetriever(\n",
        "    sql_database, tables=[\"city_stats\", \"city_economy\"], return_raw=True\n",
        ")"
      ],
      "metadata": {
        "id": "32sHQthaof14"
      },
      "execution_count": null,
      "outputs": []
    },
    {
      "cell_type": "code",
      "source": [
        "query_engine = RetrieverQueryEngine.from_args(nl_sql_retriever)"
      ],
      "metadata": {
        "id": "k1ubWBxyE4n9"
      },
      "execution_count": null,
      "outputs": []
    },
    {
      "cell_type": "code",
      "source": [
        "response = query_engine.query(\n",
        "    \"Return the top 5 cities (along with their populations) with the highest population.\"\n",
        ")"
      ],
      "metadata": {
        "id": "R2n-JcayE7ve"
      },
      "execution_count": null,
      "outputs": []
    },
    {
      "cell_type": "code",
      "source": [
        "print(str(response))"
      ],
      "metadata": {
        "colab": {
          "base_uri": "https://localhost:8080/"
        },
        "id": "Dxk5G0SgE9cn",
        "outputId": "212978ce-b508-4f24-a344-43fe1b23496e"
      },
      "execution_count": null,
      "outputs": [
        {
          "output_type": "stream",
          "name": "stdout",
          "text": [
            "Return the top 5 cities (along with their populations) with the highest population:\n",
            "1. Toronto - 293\n",
            "2. Chicago - 267\n",
            "3. Washington - 250\n",
            "4. Quebec - 247\n",
            "5. Paris - 189\n"
          ]
        }
      ]
    },
    {
      "cell_type": "code",
      "source": [
        "response = query_engine.query(\n",
        "    \"Return the top 5 cities (along with their pib) with the highest pib.\"\n",
        ")"
      ],
      "metadata": {
        "id": "0cgqQwifFABE"
      },
      "execution_count": null,
      "outputs": []
    },
    {
      "cell_type": "code",
      "source": [
        "print(str(response))"
      ],
      "metadata": {
        "colab": {
          "base_uri": "https://localhost:8080/"
        },
        "id": "iFNd4zkhFEEy",
        "outputId": "ed96b0b8-0912-4a14-d179-2935a3baee09"
      },
      "execution_count": null,
      "outputs": [
        {
          "output_type": "stream",
          "name": "stdout",
          "text": [
            "Return the top 5 cities with the highest PIB are Tokyo (190), Seoul (145), Toronto (120), Chicago (110), and Washington (100).\n"
          ]
        }
      ]
    },
    {
      "cell_type": "code",
      "source": [
        "response = query_engine.query(\n",
        "    \"Return the top 5 cities (along with their pib and population) with the highest pib.\"\n",
        ")"
      ],
      "metadata": {
        "id": "VHhipTGdFOMp"
      },
      "execution_count": null,
      "outputs": []
    },
    {
      "cell_type": "code",
      "source": [
        "print(str(response))"
      ],
      "metadata": {
        "colab": {
          "base_uri": "https://localhost:8080/"
        },
        "id": "2G8XRQVJFRPd",
        "outputId": "113cc10d-c9b3-4be0-925f-c37324fde197"
      },
      "execution_count": null,
      "outputs": [
        {
          "output_type": "stream",
          "name": "stdout",
          "text": [
            "The top 5 cities with the highest PIB are:\n",
            "1. Tokyo - PIB: 190, Population: 139\n",
            "2. Seoul - PIB: 145, Population: 97\n",
            "3. Toronto - PIB: 120, Population: 293\n",
            "4. Chicago - PIB: 110, Population: 267\n",
            "5. Washington - PIB: 100, Population: 250\n"
          ]
        }
      ]
    },
    {
      "cell_type": "code",
      "source": [
        "response = query_engine.query(\n",
        "    \"Return the top 3 countries (along with their cities and pib) with the highest pib.\"\n",
        ")"
      ],
      "metadata": {
        "id": "HVpAkSA7HyNJ"
      },
      "execution_count": null,
      "outputs": []
    },
    {
      "cell_type": "code",
      "source": [
        "print(str(response))"
      ],
      "metadata": {
        "colab": {
          "base_uri": "https://localhost:8080/"
        },
        "id": "JfK4xRWIH5km",
        "outputId": "9408f972-1ceb-4e29-e8ca-e4e821dcedd3"
      },
      "execution_count": null,
      "outputs": [
        {
          "output_type": "stream",
          "name": "stdout",
          "text": [
            "Return Tokyo (Technology) with a PIB of 190, Seoul (Technology) with a PIB of 145, and Toronto (Technology) with a PIB of 120 as the top 3 countries with the highest PIB.\n"
          ]
        }
      ]
    },
    {
      "cell_type": "markdown",
      "source": [
        "##### PARTE 4 - USANDO MECANISMOS DE VALIDAÇÃO DAS QUERYS"
      ],
      "metadata": {
        "id": "rCujJCHrSsB_"
      }
    },
    {
      "cell_type": "code",
      "source": [
        "!pip install -q evaluate"
      ],
      "metadata": {
        "colab": {
          "base_uri": "https://localhost:8080/"
        },
        "id": "deCA1dZ6So5j",
        "outputId": "3a8a7a23-1439-44b1-9e29-58473a9c9849"
      },
      "execution_count": null,
      "outputs": [
        {
          "output_type": "stream",
          "name": "stdout",
          "text": [
            "\u001b[2K     \u001b[90m━━━━━━━━━━━━━━━━━━━━━━━━━━━━━━━━━━━━━━━━\u001b[0m \u001b[32m84.1/84.1 kB\u001b[0m \u001b[31m2.0 MB/s\u001b[0m eta \u001b[36m0:00:00\u001b[0m\n",
            "\u001b[2K     \u001b[90m━━━━━━━━━━━━━━━━━━━━━━━━━━━━━━━━━━━━━━━━\u001b[0m \u001b[32m510.5/510.5 kB\u001b[0m \u001b[31m7.5 MB/s\u001b[0m eta \u001b[36m0:00:00\u001b[0m\n",
            "\u001b[2K     \u001b[90m━━━━━━━━━━━━━━━━━━━━━━━━━━━━━━━━━━━━━━━━\u001b[0m \u001b[32m116.3/116.3 kB\u001b[0m \u001b[31m8.6 MB/s\u001b[0m eta \u001b[36m0:00:00\u001b[0m\n",
            "\u001b[2K     \u001b[90m━━━━━━━━━━━━━━━━━━━━━━━━━━━━━━━━━━━━━━━━\u001b[0m \u001b[32m194.1/194.1 kB\u001b[0m \u001b[31m7.6 MB/s\u001b[0m eta \u001b[36m0:00:00\u001b[0m\n",
            "\u001b[2K     \u001b[90m━━━━━━━━━━━━━━━━━━━━━━━━━━━━━━━━━━━━━━━━\u001b[0m \u001b[32m134.8/134.8 kB\u001b[0m \u001b[31m9.0 MB/s\u001b[0m eta \u001b[36m0:00:00\u001b[0m\n",
            "\u001b[?25h"
          ]
        }
      ]
    },
    {
      "cell_type": "markdown",
      "source": [
        "PERGUNTA"
      ],
      "metadata": {
        "id": "mbrXGSi1VeDT"
      }
    },
    {
      "cell_type": "code",
      "source": [
        "query_str = \"Which is the population sum from the countries in America?\"\n",
        "response = query_engine.query(query_str)"
      ],
      "metadata": {
        "id": "v-XvsbtPVgZc"
      },
      "execution_count": null,
      "outputs": []
    },
    {
      "cell_type": "code",
      "source": [
        "print(response)"
      ],
      "metadata": {
        "colab": {
          "base_uri": "https://localhost:8080/"
        },
        "id": "oPDEu--uXAQ0",
        "outputId": "6d4f6ec5-71b6-4184-ddb2-0f9981f2befa"
      },
      "execution_count": null,
      "outputs": [
        {
          "output_type": "stream",
          "name": "stdout",
          "text": [
            "The population sum from the countries in America is 1,057.\n"
          ]
        }
      ]
    },
    {
      "cell_type": "code",
      "source": [
        "query_resposta = response.metadata['sql_query']"
      ],
      "metadata": {
        "id": "YnD5MreCVhR2"
      },
      "execution_count": null,
      "outputs": []
    },
    {
      "cell_type": "code",
      "source": [
        "query_resposta"
      ],
      "metadata": {
        "colab": {
          "base_uri": "https://localhost:8080/",
          "height": 36
        },
        "id": "tvWDX7gHXRJ4",
        "outputId": "72d5d01f-640f-4e1d-9cf1-0c9e54052122"
      },
      "execution_count": null,
      "outputs": [
        {
          "output_type": "execute_result",
          "data": {
            "text/plain": [
              "\"SELECT SUM(population) \\nFROM city_stats \\nWHERE continent = 'America'\""
            ],
            "application/vnd.google.colaboratory.intrinsic+json": {
              "type": "string"
            }
          },
          "metadata": {},
          "execution_count": 31
        }
      ]
    },
    {
      "cell_type": "code",
      "source": [
        "print(query_resposta)"
      ],
      "metadata": {
        "colab": {
          "base_uri": "https://localhost:8080/"
        },
        "id": "-xJWpDchWySS",
        "outputId": "731419aa-1ff6-4434-cdc1-34b438e80b8c"
      },
      "execution_count": null,
      "outputs": [
        {
          "output_type": "stream",
          "name": "stdout",
          "text": [
            "SELECT SUM(population) \n",
            "FROM city_stats \n",
            "WHERE continent = 'America'\n"
          ]
        }
      ]
    },
    {
      "cell_type": "markdown",
      "source": [
        "RESPOSTA ESPERADA"
      ],
      "metadata": {
        "id": "AWrT0powVhpT"
      }
    },
    {
      "cell_type": "code",
      "source": [
        "query_referencia = \"SELECT SUM(population) FROM city_stats WHERE continent = 'America'\""
      ],
      "metadata": {
        "id": "wT0eaKUWXJjt"
      },
      "execution_count": null,
      "outputs": []
    },
    {
      "cell_type": "markdown",
      "source": [
        "###### BLEU"
      ],
      "metadata": {
        "id": "wL49CGHwT6sR"
      }
    },
    {
      "cell_type": "code",
      "source": [
        "import evaluate\n",
        "\n",
        "# Define the candidate predictions and reference sentences\n",
        "predictions = [query_resposta]\n",
        "references = [query_referencia]\n",
        "\n",
        "# Load the BLEU evaluation metric\n",
        "bleu = evaluate.load(\"bleu\")\n",
        "\n",
        "# Compute the BLEU score\n",
        "results = bleu.compute(predictions=predictions, references=references)\n",
        "\n",
        "# Print the results\n",
        "print(results)"
      ],
      "metadata": {
        "colab": {
          "base_uri": "https://localhost:8080/",
          "height": 130,
          "referenced_widgets": [
            "60f446b2e29a4f1c83102a79d4084792",
            "610b731363154e77b19d680dd37a5bb1",
            "5d833b5c51734259a0cbbd13930e4044",
            "d5d138b27e8040b98d0fe2f5ecdb8c78",
            "baff8e3abdad4cac8b2409357bbf65b9",
            "43d4e97f9d7e408a9f6e4eccabd5f5bf",
            "a84ca44b2a014aac8de38a8bfc3d9d34",
            "7df7bc13b5d04f51b68e930bb2e5b925",
            "23ec5409f8bf4111aad073705b40be53",
            "561c8b16aa20401a96c26f90133e096c",
            "056e40a1c9e64a2683d9e7e8f8b4ded3",
            "3f0a2bf275814721a61789fbe512750a",
            "0aa3edaccf664221aec983b51c33aa1a",
            "2af63c00f3d343fbba1cf50d8045aca1",
            "11ab836951a94d7cb370072e446ace96",
            "3d694f4b913d489da5c96b22d024d2ef",
            "781c2bfa949b463dbf7aeebde280b651",
            "a59a64aa4d0d48fa8fc2ba6b82c1d6b9",
            "d7ca44e80ce94e79a8c4e025fc1b0583",
            "788d9a22764d47f79bec599844df0c65",
            "080289832cc7420db08465881ff3bdc8",
            "bdbfcd4c57504d2e87f344acf689ef41",
            "451db94ca6a94afda8bd739c538442ea",
            "444e175af05d45d9bfda4dba4135792f",
            "4f6552c02fde46579f26ad89aff1528f",
            "d24075f2f057410697a382b5a05e2e52",
            "5c488b70138a4e1b9ac85d3854ed11a3",
            "10e56a1b6f424f8e87d6f3b2886bcdc5",
            "17037f2e01204fbe99db768b9755fa41",
            "8737b0ee137d4094bdccfcd8a64bdce4",
            "be849a29418847939e3cfec962680560",
            "39b255731d5644969edb256212cd2d23",
            "825e1d632b4c4071b16ef19aa47c08cb"
          ]
        },
        "id": "BC752ysLTqHU",
        "outputId": "c9bc1ee6-3a84-4f50-de74-ea844b8fc860"
      },
      "execution_count": null,
      "outputs": [
        {
          "output_type": "display_data",
          "data": {
            "text/plain": [
              "Downloading builder script:   0%|          | 0.00/5.94k [00:00<?, ?B/s]"
            ],
            "application/vnd.jupyter.widget-view+json": {
              "version_major": 2,
              "version_minor": 0,
              "model_id": "60f446b2e29a4f1c83102a79d4084792"
            }
          },
          "metadata": {}
        },
        {
          "output_type": "display_data",
          "data": {
            "text/plain": [
              "Downloading extra modules:   0%|          | 0.00/1.55k [00:00<?, ?B/s]"
            ],
            "application/vnd.jupyter.widget-view+json": {
              "version_major": 2,
              "version_minor": 0,
              "model_id": "3f0a2bf275814721a61789fbe512750a"
            }
          },
          "metadata": {}
        },
        {
          "output_type": "display_data",
          "data": {
            "text/plain": [
              "Downloading extra modules:   0%|          | 0.00/3.34k [00:00<?, ?B/s]"
            ],
            "application/vnd.jupyter.widget-view+json": {
              "version_major": 2,
              "version_minor": 0,
              "model_id": "451db94ca6a94afda8bd739c538442ea"
            }
          },
          "metadata": {}
        },
        {
          "output_type": "stream",
          "name": "stdout",
          "text": [
            "{'bleu': 1.0, 'precisions': [1.0, 1.0, 1.0, 1.0], 'brevity_penalty': 1.0, 'length_ratio': 1.0, 'translation_length': 13, 'reference_length': 13}\n"
          ]
        }
      ]
    },
    {
      "cell_type": "markdown",
      "source": [
        "###### ROUGE"
      ],
      "metadata": {
        "id": "6gJlx1CqT9g4"
      }
    },
    {
      "cell_type": "code",
      "source": [
        "pip install -q rouge_score"
      ],
      "metadata": {
        "id": "U9genTOsaL-i"
      },
      "execution_count": null,
      "outputs": []
    },
    {
      "cell_type": "code",
      "source": [
        "import evaluate\n",
        "\n",
        "# Load the ROUGE evaluation metric\n",
        "rouge = evaluate.load('rouge')\n",
        "\n",
        "# Define the candidate predictions and reference sentences\n",
        "predictions = [query_resposta]\n",
        "references = [query_referencia]\n",
        "\n",
        "# Compute the ROUGE score\n",
        "results = rouge.compute(predictions=predictions, references=references)\n",
        "\n",
        "# Print the results\n",
        "print(results)"
      ],
      "metadata": {
        "colab": {
          "base_uri": "https://localhost:8080/"
        },
        "id": "kFoN0DAKUBBJ",
        "outputId": "39c26b80-f53e-45d1-b374-6e651ee51102"
      },
      "execution_count": null,
      "outputs": [
        {
          "output_type": "stream",
          "name": "stdout",
          "text": [
            "{'rouge1': 1.0, 'rouge2': 1.0, 'rougeL': 1.0, 'rougeLsum': 1.0}\n"
          ]
        }
      ]
    },
    {
      "cell_type": "markdown",
      "source": [
        "#### USANDO BASE DE DADOS DO SPIDER E CONECTANDO COM SQLITE"
      ],
      "metadata": {
        "id": "SVpF506FE1lL"
      }
    },
    {
      "cell_type": "code",
      "source": [
        "!pip install -q llama-index-llms-openai\n",
        "!pip install -q llama-index\n",
        "!pip install -q cohere\n",
        "!pip install -q openai"
      ],
      "metadata": {
        "colab": {
          "base_uri": "https://localhost:8080/"
        },
        "id": "gYcfNkgyE6TK",
        "outputId": "e0e3fe6b-b77d-424d-8184-93e6b67a6a7a"
      },
      "execution_count": null,
      "outputs": [
        {
          "output_type": "stream",
          "name": "stdout",
          "text": [
            "\u001b[2K     \u001b[90m━━━━━━━━━━━━━━━━━━━━━━━━━━━━━━━━━━━━━━━━\u001b[0m \u001b[32m15.3/15.3 MB\u001b[0m \u001b[31m33.0 MB/s\u001b[0m eta \u001b[36m0:00:00\u001b[0m\n",
            "\u001b[2K     \u001b[90m━━━━━━━━━━━━━━━━━━━━━━━━━━━━━━━━━━━━━━━━\u001b[0m \u001b[32m75.6/75.6 kB\u001b[0m \u001b[31m9.3 MB/s\u001b[0m eta \u001b[36m0:00:00\u001b[0m\n",
            "\u001b[2K     \u001b[90m━━━━━━━━━━━━━━━━━━━━━━━━━━━━━━━━━━━━━━━━\u001b[0m \u001b[32m108.0/108.0 kB\u001b[0m \u001b[31m10.3 MB/s\u001b[0m eta \u001b[36m0:00:00\u001b[0m\n",
            "\u001b[2K     \u001b[90m━━━━━━━━━━━━━━━━━━━━━━━━━━━━━━━━━━━━━━━━\u001b[0m \u001b[32m227.4/227.4 kB\u001b[0m \u001b[31m22.7 MB/s\u001b[0m eta \u001b[36m0:00:00\u001b[0m\n",
            "\u001b[2K     \u001b[90m━━━━━━━━━━━━━━━━━━━━━━━━━━━━━━━━━━━━━━━━\u001b[0m \u001b[32m1.8/1.8 MB\u001b[0m \u001b[31m44.7 MB/s\u001b[0m eta \u001b[36m0:00:00\u001b[0m\n",
            "\u001b[2K     \u001b[90m━━━━━━━━━━━━━━━━━━━━━━━━━━━━━━━━━━━━━━━━\u001b[0m \u001b[32m77.8/77.8 kB\u001b[0m \u001b[31m9.0 MB/s\u001b[0m eta \u001b[36m0:00:00\u001b[0m\n",
            "\u001b[2K     \u001b[90m━━━━━━━━━━━━━━━━━━━━━━━━━━━━━━━━━━━━━━━━\u001b[0m \u001b[32m58.3/58.3 kB\u001b[0m \u001b[31m6.3 MB/s\u001b[0m eta \u001b[36m0:00:00\u001b[0m\n",
            "\u001b[2K     \u001b[90m━━━━━━━━━━━━━━━━━━━━━━━━━━━━━━━━━━━━━━━━\u001b[0m \u001b[32m49.4/49.4 kB\u001b[0m \u001b[31m4.6 MB/s\u001b[0m eta \u001b[36m0:00:00\u001b[0m\n",
            "\u001b[2K     \u001b[90m━━━━━━━━━━━━━━━━━━━━━━━━━━━━━━━━━━━━━━━━\u001b[0m \u001b[32m2.0/2.0 MB\u001b[0m \u001b[31m26.0 MB/s\u001b[0m eta \u001b[36m0:00:00\u001b[0m\n",
            "\u001b[2K     \u001b[90m━━━━━━━━━━━━━━━━━━━━━━━━━━━━━━━━━━━━━━━━\u001b[0m \u001b[32m4.4/4.4 MB\u001b[0m \u001b[31m41.1 MB/s\u001b[0m eta \u001b[36m0:00:00\u001b[0m\n",
            "\u001b[2K     \u001b[90m━━━━━━━━━━━━━━━━━━━━━━━━━━━━━━━━━━━━━━━━\u001b[0m \u001b[32m286.1/286.1 kB\u001b[0m \u001b[31m26.0 MB/s\u001b[0m eta \u001b[36m0:00:00\u001b[0m\n",
            "\u001b[2K     \u001b[90m━━━━━━━━━━━━━━━━━━━━━━━━━━━━━━━━━━━━━━━━\u001b[0m \u001b[32m525.5/525.5 kB\u001b[0m \u001b[31m38.6 MB/s\u001b[0m eta \u001b[36m0:00:00\u001b[0m\n",
            "\u001b[2K     \u001b[90m━━━━━━━━━━━━━━━━━━━━━━━━━━━━━━━━━━━━━━━━\u001b[0m \u001b[32m30.6/30.6 MB\u001b[0m \u001b[31m30.1 MB/s\u001b[0m eta \u001b[36m0:00:00\u001b[0m\n",
            "\u001b[2K     \u001b[90m━━━━━━━━━━━━━━━━━━━━━━━━━━━━━━━━━━━━━━━━\u001b[0m \u001b[32m2.4/2.4 MB\u001b[0m \u001b[31m64.0 MB/s\u001b[0m eta \u001b[36m0:00:00\u001b[0m\n",
            "\u001b[2K     \u001b[90m━━━━━━━━━━━━━━━━━━━━━━━━━━━━━━━━━━━━━━━━\u001b[0m \u001b[32m92.1/92.1 kB\u001b[0m \u001b[31m9.1 MB/s\u001b[0m eta \u001b[36m0:00:00\u001b[0m\n",
            "\u001b[2K     \u001b[90m━━━━━━━━━━━━━━━━━━━━━━━━━━━━━━━━━━━━━━━━\u001b[0m \u001b[32m60.6/60.6 kB\u001b[0m \u001b[31m3.8 MB/s\u001b[0m eta \u001b[36m0:00:00\u001b[0m\n",
            "\u001b[2K     \u001b[90m━━━━━━━━━━━━━━━━━━━━━━━━━━━━━━━━━━━━━━━━\u001b[0m \u001b[32m41.3/41.3 kB\u001b[0m \u001b[31m4.0 MB/s\u001b[0m eta \u001b[36m0:00:00\u001b[0m\n",
            "\u001b[2K     \u001b[90m━━━━━━━━━━━━━━━━━━━━━━━━━━━━━━━━━━━━━━━━\u001b[0m \u001b[32m5.4/5.4 MB\u001b[0m \u001b[31m59.0 MB/s\u001b[0m eta \u001b[36m0:00:00\u001b[0m\n",
            "\u001b[2K     \u001b[90m━━━━━━━━━━━━━━━━━━━━━━━━━━━━━━━━━━━━━━━━\u001b[0m \u001b[32m6.8/6.8 MB\u001b[0m \u001b[31m60.6 MB/s\u001b[0m eta \u001b[36m0:00:00\u001b[0m\n",
            "\u001b[2K     \u001b[90m━━━━━━━━━━━━━━━━━━━━━━━━━━━━━━━━━━━━━━━━\u001b[0m \u001b[32m58.4/58.4 kB\u001b[0m \u001b[31m6.6 MB/s\u001b[0m eta \u001b[36m0:00:00\u001b[0m\n",
            "\u001b[2K     \u001b[90m━━━━━━━━━━━━━━━━━━━━━━━━━━━━━━━━━━━━━━━━\u001b[0m \u001b[32m105.7/105.7 kB\u001b[0m \u001b[31m11.1 MB/s\u001b[0m eta \u001b[36m0:00:00\u001b[0m\n",
            "\u001b[2K     \u001b[90m━━━━━━━━━━━━━━━━━━━━━━━━━━━━━━━━━━━━━━━━\u001b[0m \u001b[32m67.3/67.3 kB\u001b[0m \u001b[31m6.9 MB/s\u001b[0m eta \u001b[36m0:00:00\u001b[0m\n",
            "\u001b[?25h  Installing build dependencies ... \u001b[?25l\u001b[?25hdone\n",
            "  Getting requirements to build wheel ... \u001b[?25l\u001b[?25hdone\n",
            "  Preparing metadata (pyproject.toml) ... \u001b[?25l\u001b[?25hdone\n",
            "\u001b[2K     \u001b[90m━━━━━━━━━━━━━━━━━━━━━━━━━━━━━━━━━━━━━━━━\u001b[0m \u001b[32m698.9/698.9 kB\u001b[0m \u001b[31m52.5 MB/s\u001b[0m eta \u001b[36m0:00:00\u001b[0m\n",
            "\u001b[2K     \u001b[90m━━━━━━━━━━━━━━━━━━━━━━━━━━━━━━━━━━━━━━━━\u001b[0m \u001b[32m1.6/1.6 MB\u001b[0m \u001b[31m68.2 MB/s\u001b[0m eta \u001b[36m0:00:00\u001b[0m\n",
            "\u001b[2K     \u001b[90m━━━━━━━━━━━━━━━━━━━━━━━━━━━━━━━━━━━━━━━━\u001b[0m \u001b[32m67.6/67.6 kB\u001b[0m \u001b[31m7.9 MB/s\u001b[0m eta \u001b[36m0:00:00\u001b[0m\n",
            "\u001b[2K     \u001b[90m━━━━━━━━━━━━━━━━━━━━━━━━━━━━━━━━━━━━━━━━\u001b[0m \u001b[32m138.5/138.5 kB\u001b[0m \u001b[31m15.6 MB/s\u001b[0m eta \u001b[36m0:00:00\u001b[0m\n",
            "\u001b[2K     \u001b[90m━━━━━━━━━━━━━━━━━━━━━━━━━━━━━━━━━━━━━━━━\u001b[0m \u001b[32m71.5/71.5 kB\u001b[0m \u001b[31m7.9 MB/s\u001b[0m eta \u001b[36m0:00:00\u001b[0m\n",
            "\u001b[2K     \u001b[90m━━━━━━━━━━━━━━━━━━━━━━━━━━━━━━━━━━━━━━━━\u001b[0m \u001b[32m46.0/46.0 kB\u001b[0m \u001b[31m4.6 MB/s\u001b[0m eta \u001b[36m0:00:00\u001b[0m\n",
            "\u001b[2K     \u001b[90m━━━━━━━━━━━━━━━━━━━━━━━━━━━━━━━━━━━━━━━━\u001b[0m \u001b[32m50.8/50.8 kB\u001b[0m \u001b[31m5.9 MB/s\u001b[0m eta \u001b[36m0:00:00\u001b[0m\n",
            "\u001b[2K     \u001b[90m━━━━━━━━━━━━━━━━━━━━━━━━━━━━━━━━━━━━━━━━\u001b[0m \u001b[32m341.4/341.4 kB\u001b[0m \u001b[31m28.4 MB/s\u001b[0m eta \u001b[36m0:00:00\u001b[0m\n",
            "\u001b[2K     \u001b[90m━━━━━━━━━━━━━━━━━━━━━━━━━━━━━━━━━━━━━━━━\u001b[0m \u001b[32m3.4/3.4 MB\u001b[0m \u001b[31m72.1 MB/s\u001b[0m eta \u001b[36m0:00:00\u001b[0m\n",
            "\u001b[2K     \u001b[90m━━━━━━━━━━━━━━━━━━━━━━━━━━━━━━━━━━━━━━━━\u001b[0m \u001b[32m1.3/1.3 MB\u001b[0m \u001b[31m42.7 MB/s\u001b[0m eta \u001b[36m0:00:00\u001b[0m\n",
            "\u001b[2K     \u001b[90m━━━━━━━━━━━━━━━━━━━━━━━━━━━━━━━━━━━━━━━━\u001b[0m \u001b[32m130.2/130.2 kB\u001b[0m \u001b[31m10.6 MB/s\u001b[0m eta \u001b[36m0:00:00\u001b[0m\n",
            "\u001b[2K     \u001b[90m━━━━━━━━━━━━━━━━━━━━━━━━━━━━━━━━━━━━━━━━\u001b[0m \u001b[32m86.8/86.8 kB\u001b[0m \u001b[31m10.7 MB/s\u001b[0m eta \u001b[36m0:00:00\u001b[0m\n",
            "\u001b[?25h  Building wheel for pypika (pyproject.toml) ... \u001b[?25l\u001b[?25hdone\n",
            "\u001b[2K     \u001b[90m━━━━━━━━━━━━━━━━━━━━━━━━━━━━━━━━━━━━━━━━\u001b[0m \u001b[32m52.8/52.8 kB\u001b[0m \u001b[31m1.7 MB/s\u001b[0m eta \u001b[36m0:00:00\u001b[0m\n",
            "\u001b[2K     \u001b[90m━━━━━━━━━━━━━━━━━━━━━━━━━━━━━━━━━━━━━━━━\u001b[0m \u001b[32m3.1/3.1 MB\u001b[0m \u001b[31m31.6 MB/s\u001b[0m eta \u001b[36m0:00:00\u001b[0m\n",
            "\u001b[?25h"
          ]
        }
      ]
    },
    {
      "cell_type": "code",
      "source": [
        "from llama_index.core import SQLDatabase\n",
        "from llama_index.llms.openai import OpenAI\n",
        "from sqlalchemy import insert\n",
        "import openai\n",
        "import os\n",
        "from sqlalchemy import (inspect, create_engine,MetaData,Table,Column,String,Integer,select, text)\n",
        "from IPython.display import Markdown, display\n",
        "import pandas as pd"
      ],
      "metadata": {
        "id": "vA_A_V8SE6FJ"
      },
      "execution_count": null,
      "outputs": []
    },
    {
      "cell_type": "code",
      "source": [
        "os.environ[\"OPENAI_API_KEY\"] = \"XXXXXXXXXXXXXXX\"\n",
        "openai.api_key = os.environ[\"OPENAI_API_KEY\"]"
      ],
      "metadata": {
        "id": "rA1UBY0vF7pd"
      },
      "execution_count": null,
      "outputs": []
    },
    {
      "cell_type": "code",
      "source": [
        "llm = OpenAI(temperature=0.1, model=\"gpt-3.5-turbo\")"
      ],
      "metadata": {
        "id": "z6xE1rLOF7hP"
      },
      "execution_count": null,
      "outputs": []
    },
    {
      "cell_type": "markdown",
      "source": [
        "##### Pegar caminho das bases do sqlite"
      ],
      "metadata": {
        "id": "KhoYUeAJkokg"
      }
    },
    {
      "cell_type": "code",
      "source": [
        "from google.colab import drive\n",
        "drive.mount('/content/drive')"
      ],
      "metadata": {
        "colab": {
          "base_uri": "https://localhost:8080/"
        },
        "id": "VUvwta87jt62",
        "outputId": "ffd31aa3-f942-4c42-8c24-e161bc2c50f6"
      },
      "execution_count": null,
      "outputs": [
        {
          "output_type": "stream",
          "name": "stdout",
          "text": [
            "Mounted at /content/drive\n"
          ]
        }
      ]
    },
    {
      "cell_type": "code",
      "source": [
        "base_wta = 'Caminho/wta_1.sqlite'"
      ],
      "metadata": {
        "id": "Ht6IIVDokEIN"
      },
      "execution_count": null,
      "outputs": []
    },
    {
      "cell_type": "code",
      "source": [
        "base_baseball = 'Caminho/baseball_1.sqlite'"
      ],
      "metadata": {
        "id": "TptxfD-akgnA"
      },
      "execution_count": null,
      "outputs": []
    },
    {
      "cell_type": "markdown",
      "source": [
        "##### Acessar base do SQLite"
      ],
      "metadata": {
        "id": "kxMuRtMaksmL"
      }
    },
    {
      "cell_type": "code",
      "source": [
        "engine = create_engine(\"sqlite:///\"+base_wta)"
      ],
      "metadata": {
        "id": "nlQrS2KBF7UI"
      },
      "execution_count": null,
      "outputs": []
    },
    {
      "cell_type": "code",
      "source": [
        "table_names = inspect(engine).get_table_names()\n",
        "print(table_names)"
      ],
      "metadata": {
        "colab": {
          "base_uri": "https://localhost:8080/"
        },
        "id": "nIkkNxp9Jtrq",
        "outputId": "55460c5d-4f80-422d-fbb7-c882a54e5939"
      },
      "execution_count": null,
      "outputs": [
        {
          "output_type": "stream",
          "name": "stdout",
          "text": [
            "['matches', 'players', 'rankings']\n"
          ]
        }
      ]
    },
    {
      "cell_type": "code",
      "source": [
        "sql_database = SQLDatabase(engine, include_tables=[\"matches\", \"players\", \"rankings\"])"
      ],
      "metadata": {
        "id": "QLJu4phWP9Q6"
      },
      "execution_count": null,
      "outputs": []
    },
    {
      "cell_type": "markdown",
      "source": [
        "##### Adicionar bases dentro da ferramenta do SQL"
      ],
      "metadata": {
        "id": "_JM7ayB3kxmt"
      }
    },
    {
      "cell_type": "code",
      "source": [
        "from llama_index.core.query_engine import NLSQLTableQueryEngine\n",
        "\n",
        "query_engine = NLSQLTableQueryEngine(sql_database=sql_database, tables=[\"matches\", \"players\", \"rankings\"], llm=llm)"
      ],
      "metadata": {
        "id": "4b4w1ojmQsAp"
      },
      "execution_count": null,
      "outputs": []
    },
    {
      "cell_type": "markdown",
      "source": [
        "##### PARTE 1 - ENGINE QUERY"
      ],
      "metadata": {
        "id": "Tykk2oiGk1tP"
      }
    },
    {
      "cell_type": "code",
      "source": [
        "query_str = \"List the 10 players with minimum ranking points?\"\n",
        "response = query_engine.query(query_str)\n",
        "\n",
        "print(response)\n",
        "print('\\n')\n",
        "print(response.metadata['sql_query'])"
      ],
      "metadata": {
        "colab": {
          "base_uri": "https://localhost:8080/"
        },
        "id": "H8LrXg69Q19M",
        "outputId": "1cf61b71-ac90-4ca0-d5c4-6ca9a5dd9090"
      },
      "execution_count": null,
      "outputs": [
        {
          "output_type": "stream",
          "name": "stdout",
          "text": [
            "The 10 players with the minimum ranking points are Svenja Weidemann and Virginie Ayassamy, each with 0 ranking points.\n",
            "\n",
            "\n",
            "SELECT p.first_name, p.last_name, r.ranking_points\n",
            "FROM players p\n",
            "JOIN rankings r ON p.player_id = r.player_id\n",
            "ORDER BY r.ranking_points\n",
            "LIMIT 10;\n"
          ]
        }
      ]
    },
    {
      "cell_type": "code",
      "source": [
        "query_str = \"List the 5 tournament names and countries with most competitions?\"\n",
        "response = query_engine.query(query_str)\n",
        "\n",
        "print(response)\n",
        "print('\\n')\n",
        "print(response.metadata['sql_query'])"
      ],
      "metadata": {
        "colab": {
          "base_uri": "https://localhost:8080/"
        },
        "id": "N7OfVsGLv6ss",
        "outputId": "a1c4b67f-369d-4273-a8e2-f43875e460d6"
      },
      "execution_count": null,
      "outputs": [
        {
          "output_type": "stream",
          "name": "stdout",
          "text": [
            "The top 5 tournament names and countries with the most competitions are Indian Wells in Russia with 10 competitions, US Open in the USA with 7 competitions, Cincinnati in Spain with 6 competitions, Wimbledon in the USA with 6 competitions, and Australian Open in the USA with 5 competitions.\n",
            "\n",
            "\n",
            "SELECT tourney_name, winner_ioc, COUNT(*) as num_competitions\n",
            "FROM matches\n",
            "GROUP BY tourney_name, winner_ioc\n",
            "ORDER BY num_competitions DESC\n",
            "LIMIT 5;\n"
          ]
        }
      ]
    },
    {
      "cell_type": "code",
      "source": [
        "query_str = \"What is the median time from the players that plays with the Right Hand?\"\n",
        "response = query_engine.query(query_str)\n",
        "\n",
        "print(response)\n",
        "print('\\n')\n",
        "print(response.metadata['sql_query'])"
      ],
      "metadata": {
        "colab": {
          "base_uri": "https://localhost:8080/"
        },
        "id": "hy1QIWNpwvV7",
        "outputId": "24ea7f27-3802-47fc-a37d-d40277feb7f6"
      },
      "execution_count": null,
      "outputs": [
        {
          "output_type": "stream",
          "name": "stdout",
          "text": [
            "The median time from players who play with their right hand is 95 minutes.\n",
            "\n",
            "\n",
            "SELECT minutes\n",
            "FROM matches\n",
            "WHERE winner_hand = 'R' OR loser_hand = 'R'\n",
            "ORDER BY minutes\n",
            "LIMIT 1 OFFSET (SELECT COUNT(*) FROM matches WHERE winner_hand = 'R' OR loser_hand = 'R') / 2\n"
          ]
        }
      ]
    },
    {
      "cell_type": "code",
      "source": [
        "query_str = \"What is the 5 countries with most tours by player?\"\n",
        "response = query_engine.query(query_str)\n",
        "\n",
        "print(response)\n",
        "print('\\n')\n",
        "print(response.metadata['sql_query'])"
      ],
      "metadata": {
        "colab": {
          "base_uri": "https://localhost:8080/"
        },
        "id": "U2nNymwkxU1a",
        "outputId": "d8e815a9-20cb-4bfa-dc59-ea4d60d1a2c8"
      },
      "execution_count": null,
      "outputs": [
        {
          "output_type": "stream",
          "name": "stdout",
          "text": [
            "The top 5 countries with the most tours by players are the USA with 43,331 tours, Russia with 38,617 tours, Italy with 28,186 tours, Japan with 27,031 tours, and France with 25,138 tours.\n",
            "\n",
            "\n",
            "SELECT p.country_code, COUNT(r.tours) AS total_tours\n",
            "FROM players p\n",
            "JOIN rankings r ON p.player_id = r.player_id\n",
            "GROUP BY p.country_code\n",
            "ORDER BY total_tours DESC\n",
            "LIMIT 5;\n"
          ]
        }
      ]
    },
    {
      "cell_type": "code",
      "source": [
        "query_str = \"What is year with most matches?\"\n",
        "response = query_engine.query(query_str)\n",
        "\n",
        "print(response)\n",
        "print('\\n')\n",
        "print(response.metadata['sql_query'])"
      ],
      "metadata": {
        "colab": {
          "base_uri": "https://localhost:8080/"
        },
        "id": "1vrJCNuUxgGz",
        "outputId": "6117d5b0-5dd9-451f-823e-e4d805688e86"
      },
      "execution_count": null,
      "outputs": [
        {
          "output_type": "stream",
          "name": "stdout",
          "text": [
            "The year with the most matches is 2016, with a total of 158 matches.\n",
            "\n",
            "\n",
            "SELECT year, COUNT(*) AS match_count\n",
            "FROM matches\n",
            "GROUP BY year\n",
            "ORDER BY match_count DESC\n",
            "LIMIT 1;\n"
          ]
        }
      ]
    },
    {
      "cell_type": "code",
      "source": [
        "query_str = \"What is the top player from every country?\"\n",
        "response = query_engine.query(query_str)\n",
        "\n",
        "print(response)\n",
        "print('\\n')\n",
        "print(response.metadata['sql_query'])"
      ],
      "metadata": {
        "colab": {
          "base_uri": "https://localhost:8080/"
        },
        "id": "tr7qTye9zVza",
        "outputId": "b76ef5e7-ecd2-40f1-ef37-cb5aea8aff60"
      },
      "execution_count": null,
      "outputs": [
        {
          "output_type": "stream",
          "name": "stdout",
          "text": [
            "The top players from various countries include Victoria Azarenka from Belarus, Karolina Pliskova from the Czech Republic, Caroline Wozniacki from Denmark, Garbine Muguruza from Spain, Angelique Kerber from Germany, Maria Sharapova from Russia, Ana Ivanovic and Jelena Jankovic from Serbia, and Serena Williams from the USA.\n",
            "\n",
            "\n",
            "SELECT p.country_code, p.first_name, p.last_name, r.ranking\n",
            "FROM players p\n",
            "JOIN rankings r ON p.player_id = r.player_id\n",
            "WHERE r.ranking = 1\n",
            "ORDER BY p.country_code;\n"
          ]
        }
      ]
    },
    {
      "cell_type": "markdown",
      "source": [
        "##### PARTE 2 - QUERY TIME RETRIEVER"
      ],
      "metadata": {
        "id": "ZXGedQ5knSgq"
      }
    },
    {
      "cell_type": "code",
      "source": [
        "from llama_index.core.indices.struct_store.sql_query import (\n",
        "    SQLTableRetrieverQueryEngine,\n",
        ")\n",
        "from llama_index.core.objects import (\n",
        "    SQLTableNodeMapping,\n",
        "    ObjectIndex,\n",
        "    SQLTableSchema,\n",
        ")\n",
        "from llama_index.core import VectorStoreIndex\n",
        "\n",
        "# set Logging to DEBUG for more detailed outputs\n",
        "table_node_mapping = SQLTableNodeMapping(sql_database)\n",
        "table_schema_objs = [\n",
        "    (SQLTableSchema(table_name=\"matches\")), (SQLTableSchema(table_name=\"players\")), (SQLTableSchema(table_name=\"rankings\"))\n",
        "]  # add a SQLTableSchema for each table\n",
        "\n",
        "obj_index = ObjectIndex.from_objects(\n",
        "    table_schema_objs,\n",
        "    table_node_mapping,\n",
        "    VectorStoreIndex,\n",
        ")\n",
        "query_engine = SQLTableRetrieverQueryEngine(\n",
        "    sql_database, obj_index.as_retriever(similarity_top_k=1)\n",
        ")"
      ],
      "metadata": {
        "id": "ZQ8BHaMnnWyw"
      },
      "execution_count": null,
      "outputs": []
    },
    {
      "cell_type": "code",
      "source": [
        "query_str = \"What is the top player in winner rank from every country, list all?\"\n",
        "response = query_engine.query(query_str)\n",
        "\n",
        "print(response)\n",
        "print('\\n')\n",
        "print(response.metadata['sql_query'])"
      ],
      "metadata": {
        "colab": {
          "base_uri": "https://localhost:8080/"
        },
        "id": "Zq3NolaGnWq4",
        "outputId": "78e41fb5-10a8-4211-9984-19dac3b5a99d"
      },
      "execution_count": null,
      "outputs": [
        {
          "output_type": "stream",
          "name": "stdout",
          "text": [
            "Apologies, there seems to be an error in the SQL query provided. Let me correct it for you.\n",
            "\n",
            "\n",
            "SELECT p.country, p.player_name, r.ranking\n",
            "FROM players p\n",
            "JOIN rankings r ON p.player_id = r.player_id\n",
            "WHERE r.ranking = 1\n",
            "ORDER BY p.country;\n"
          ]
        }
      ]
    },
    {
      "cell_type": "code",
      "source": [
        "matches_text = (\n",
        "    \"This table gives information regarding the matches, stats and players information of a\"\n",
        "    \" given player that win and a player who lose.\\nThe user will query with codewords, where 'foo' corresponds\"\n",
        "    \" to player and 'bar'corresponds to matchs and players information.\"\n",
        ")\n",
        "\n",
        "players_text = (\n",
        "    \"This table gives information regarding the characteristics of a\"\n",
        "    \" given player.\\nThe user will query with codewords, where 'foo' corresponds\"\n",
        "    \" to player id and 'bar'corresponds to player information.\"\n",
        ")\n",
        "\n",
        "rankings_text = (\n",
        "    \"This table gives information regarding the players rank of a\"\n",
        "    \" given player.\\nThe user will query with codewords, where 'foo' corresponds\"\n",
        "    \" to player id and 'bar'corresponds to player rank information.\"\n",
        ")\n",
        "\n",
        "table_node_mapping = SQLTableNodeMapping(sql_database)\n",
        "table_schema_objs = [\n",
        "    (SQLTableSchema(table_name=\"matches\", context_str=matches_text)),\n",
        "    (SQLTableSchema(table_name=\"players\", context_str=players_text)),\n",
        "    (SQLTableSchema(table_name=\"rankings\", context_str=rankings_text))\n",
        "]"
      ],
      "metadata": {
        "id": "5Y4TAAkt0eHe"
      },
      "execution_count": null,
      "outputs": []
    },
    {
      "cell_type": "code",
      "source": [
        "query_str = \"What is the the top player by ranking seed in each country code, list all countries and player first name?\"\n",
        "response = query_engine.query(query_str)\n",
        "\n",
        "print(response)\n",
        "print('\\n')\n",
        "print(response.metadata['sql_query'])"
      ],
      "metadata": {
        "colab": {
          "base_uri": "https://localhost:8080/"
        },
        "id": "SZpZFeoO-tfc",
        "outputId": "cb2ddd1f-86d6-476c-ed8c-a11c10b31453"
      },
      "execution_count": null,
      "outputs": [
        {
          "output_type": "stream",
          "name": "stdout",
          "text": [
            "The top player by ranking seed in each country code are as follows:\n",
            "- Belarus (BLR): Victoria\n",
            "- Czech Republic (CZE): Karolina\n",
            "- Denmark (DEN): Caroline\n",
            "- Spain (ESP): Garbine\n",
            "- Germany (GER): Angelique\n",
            "- Russia (RUS): Maria\n",
            "- Serbia (SRB): Ana and Jelena\n",
            "- United States (USA): Serena\n",
            "\n",
            "\n",
            "SELECT p.first_name, p.country_code, r.ranking\n",
            "FROM rankings r\n",
            "JOIN players p ON r.player_id = p.player_id\n",
            "WHERE r.ranking = 1\n",
            "ORDER BY p.country_code;\n"
          ]
        }
      ]
    },
    {
      "cell_type": "markdown",
      "source": [
        "##### PARTE 3 - TEXT TO SQL RETRIEVER"
      ],
      "metadata": {
        "id": "oPoYBIBxncWb"
      }
    },
    {
      "cell_type": "code",
      "source": [
        "from llama_index.core.retrievers import NLSQLRetriever\n",
        "from llama_index.core.query_engine import RetrieverQueryEngine\n",
        "\n",
        "nl_sql_retriever = NLSQLRetriever(sql_database, tables=[\"matches\", \"players\", \"rankings\"], return_raw=True)"
      ],
      "metadata": {
        "id": "aYEVFR1YngYL"
      },
      "execution_count": null,
      "outputs": []
    },
    {
      "cell_type": "code",
      "source": [
        "query_engine = RetrieverQueryEngine.from_args(nl_sql_retriever)"
      ],
      "metadata": {
        "id": "9nehAySMngOM"
      },
      "execution_count": null,
      "outputs": []
    },
    {
      "cell_type": "code",
      "source": [
        "query_str = \"What is the the top player by ranking seed in each country code, list all countries and player first name?\"\n",
        "response = query_engine.query(query_str)\n",
        "\n",
        "print(str(response))"
      ],
      "metadata": {
        "colab": {
          "base_uri": "https://localhost:8080/"
        },
        "id": "WlP1Y1VgAF-G",
        "outputId": "e871b7d0-1b80-4a98-f9e8-411d756aea70"
      },
      "execution_count": null,
      "outputs": [
        {
          "output_type": "stream",
          "name": "stdout",
          "text": [
            "The top player by ranking seed in each country code is as follows:\n",
            "\n",
            "- Country Code: US, Player First Name: John\n",
            "- Country Code: UK, Player First Name: Emily\n",
            "- Country Code: FR, Player First Name: Pierre\n"
          ]
        }
      ]
    },
    {
      "cell_type": "code",
      "source": [
        "print(str(response.source_nodes[0]))"
      ],
      "metadata": {
        "colab": {
          "base_uri": "https://localhost:8080/"
        },
        "id": "O5_WM7SrDnnn",
        "outputId": "1b2922ca-f670-4add-f45b-03e62b4973d9"
      },
      "execution_count": null,
      "outputs": [
        {
          "output_type": "stream",
          "name": "stdout",
          "text": [
            "Node ID: da5d4a3d-4f07-401b-af64-bc9b6293d63b\n",
            "Text: Error: Statement 'SELECT p.country_code, p.first_name\\nFROM\n",
            "players p\\nJOIN (\\n    SELECT country_code, MAX(winner_seed) AS\n",
            "max_seed\\n    FROM matches\\n    GROUP BY country_code\\n) m ON\n",
            "p.player_id = (\\n    SELECT winner_id\\n    FROM matches\\n    WHERE\n",
            "country_code = m.country_code AND winner_seed = m.max_seed\\n)\\nORDER\n",
            "BY p.country_code;' is in...\n",
            "Score: None\n",
            "\n"
          ]
        }
      ]
    },
    {
      "cell_type": "markdown",
      "source": [
        "##### PARTE 4 - MÉTRICAS PARA VALIDAR AS QUERYS"
      ],
      "metadata": {
        "id": "TxGJSkzMFGg8"
      }
    },
    {
      "cell_type": "markdown",
      "source": [
        "CRIAR UMA BASE DE PERGUNTAS E QUERYS ESPERADAS PARA AQUELA PERGUNTA E USAR COMO BASE DE REFERÊNCIA PARA COMPARAR COM A RESPOSTA DO MODELO E ESCOLHER O SCORE QUE FAZ MAIS SENTIDO"
      ],
      "metadata": {
        "id": "ErT3gaRavc6k"
      }
    },
    {
      "cell_type": "code",
      "source": [
        "!pip install -q evaluate"
      ],
      "metadata": {
        "id": "VjQLMKXMTrJx"
      },
      "execution_count": null,
      "outputs": []
    },
    {
      "cell_type": "markdown",
      "source": [
        "###### BLEU"
      ],
      "metadata": {
        "id": "fHzbDgqeRmqq"
      }
    },
    {
      "cell_type": "code",
      "source": [
        "import evaluate\n",
        "\n",
        "# Define the candidate predictions and reference sentences\n",
        "predictions = [\"hello there general kenobi\", \"foo bar foobar\"]\n",
        "references = [[\"hello there general kenobi\", \"hello there !\"],[\"foo bar foobar\"]]\n",
        "\n",
        "# Load the BLEU evaluation metric\n",
        "bleu = evaluate.load(\"bleu\")\n",
        "\n",
        "# Compute the BLEU score\n",
        "results = bleu.compute(predictions=predictions, references=references)\n",
        "\n",
        "# Print the results\n",
        "print(results)"
      ],
      "metadata": {
        "id": "FDs173wJQPDp"
      },
      "execution_count": null,
      "outputs": []
    },
    {
      "cell_type": "markdown",
      "source": [
        "###### ROUGE"
      ],
      "metadata": {
        "id": "ot7a-2AhRpVn"
      }
    },
    {
      "cell_type": "code",
      "source": [
        "import evaluate\n",
        "\n",
        "# Load the ROUGE evaluation metric\n",
        "rouge = evaluate.load('rouge')\n",
        "\n",
        "# Define the candidate predictions and reference sentences\n",
        "predictions = [\"hello there\", \"general kenobi\"]\n",
        "references = [\"hello there\", \"general kenobi\"]\n",
        "\n",
        "# Compute the ROUGE score\n",
        "results = rouge.compute(predictions=predictions, references=references)\n",
        "\n",
        "# Print the results\n",
        "print(results)"
      ],
      "metadata": {
        "id": "SF45GKjWRuRz"
      },
      "execution_count": null,
      "outputs": []
    },
    {
      "cell_type": "markdown",
      "source": [
        "#### USANDO O MODO DE CONVERSA DA OPEN AI PRA CONSTRUIR QUERYS (PASSANDO ESTRUTURAS DE TABELAS COMO CONTEXTO)"
      ],
      "metadata": {
        "id": "L5vZ8B4qRuex"
      }
    },
    {
      "cell_type": "code",
      "source": [
        "!pip install -q openai"
      ],
      "metadata": {
        "id": "1CiCaJQyUjdq",
        "colab": {
          "base_uri": "https://localhost:8080/"
        },
        "outputId": "37fba97f-585c-4366-c71c-390e9a7b7e93"
      },
      "execution_count": null,
      "outputs": [
        {
          "output_type": "stream",
          "name": "stdout",
          "text": [
            "\u001b[?25l     \u001b[90m━━━━━━━━━━━━━━━━━━━━━━━━━━━━━━━━━━━━━━━━\u001b[0m \u001b[32m0.0/226.7 kB\u001b[0m \u001b[31m?\u001b[0m eta \u001b[36m-:--:--\u001b[0m\r\u001b[2K     \u001b[91m━━━━━━━━━━━━━━━━━━━━━━━━━━━━━━━━━━━━\u001b[0m\u001b[90m╺\u001b[0m\u001b[90m━━━\u001b[0m \u001b[32m204.8/226.7 kB\u001b[0m \u001b[31m6.1 MB/s\u001b[0m eta \u001b[36m0:00:01\u001b[0m\r\u001b[2K     \u001b[90m━━━━━━━━━━━━━━━━━━━━━━━━━━━━━━━━━━━━━━━━\u001b[0m \u001b[32m226.7/226.7 kB\u001b[0m \u001b[31m4.5 MB/s\u001b[0m eta \u001b[36m0:00:00\u001b[0m\n",
            "\u001b[2K     \u001b[90m━━━━━━━━━━━━━━━━━━━━━━━━━━━━━━━━━━━━━━━━\u001b[0m \u001b[32m75.6/75.6 kB\u001b[0m \u001b[31m7.0 MB/s\u001b[0m eta \u001b[36m0:00:00\u001b[0m\n",
            "\u001b[2K     \u001b[90m━━━━━━━━━━━━━━━━━━━━━━━━━━━━━━━━━━━━━━━━\u001b[0m \u001b[32m77.8/77.8 kB\u001b[0m \u001b[31m7.4 MB/s\u001b[0m eta \u001b[36m0:00:00\u001b[0m\n",
            "\u001b[2K     \u001b[90m━━━━━━━━━━━━━━━━━━━━━━━━━━━━━━━━━━━━━━━━\u001b[0m \u001b[32m58.3/58.3 kB\u001b[0m \u001b[31m5.6 MB/s\u001b[0m eta \u001b[36m0:00:00\u001b[0m\n",
            "\u001b[?25h"
          ]
        }
      ]
    },
    {
      "cell_type": "code",
      "source": [
        "import os\n",
        "from openai import OpenAI"
      ],
      "metadata": {
        "id": "ajhdtiSgHl9_"
      },
      "execution_count": null,
      "outputs": []
    },
    {
      "cell_type": "code",
      "source": [
        "os.environ[\"OPENAI_API_KEY\"] = \"XXXXXXXXXXXXXXXXXXXXXXXXXXX\"\n",
        "openai.api_key = os.environ[\"OPENAI_API_KEY\"]"
      ],
      "metadata": {
        "id": "6dk3lmaBHpX9"
      },
      "execution_count": null,
      "outputs": []
    },
    {
      "cell_type": "code",
      "source": [
        "client = OpenAI()"
      ],
      "metadata": {
        "id": "acCT3VrKba2j"
      },
      "execution_count": null,
      "outputs": []
    },
    {
      "cell_type": "code",
      "source": [
        "def continue_conversation(messages, temperature=0):\n",
        "    response = client.chat.completions.create(\n",
        "        model=\"gpt-3.5-turbo\",\n",
        "        messages=messages,\n",
        "        temperature=temperature,\n",
        "    )\n",
        "    return response.choices[0].message.content"
      ],
      "metadata": {
        "id": "073xsV6vVTU3"
      },
      "execution_count": null,
      "outputs": []
    },
    {
      "cell_type": "code",
      "source": [
        "context = [ {'role':'system',\n",
        "             'content':\"\"\"you are a bot to assist in create SQL commands, all your answers should start with \\\n",
        "              this is your SQL, and after that an SQL that can do what the user request. \\\n",
        "              Your Database is composed by a SQL database with some tables. \\\n",
        "              Try to Maintain the SQL order simple.\n",
        "              Put the SQL command in white letters with a black background, and just after \\\n",
        "              a simple and concise text explaining how it works.\n",
        "              If the user ask for something that can not be solved with an SQL Order \\\n",
        "              just answer something nice and simple, maximum 10 words, asking him for something that \\\n",
        "              can be solved with SQL.\n",
        "              \"\"\"}\n",
        "            ]\n",
        "\n",
        "context.append( {'role':'system',\n",
        "                 'content':\"\"\"\n",
        "first table:\n",
        "{\n",
        "  \"tableName\": \"employees\",\n",
        "  \"fields\": [\n",
        "    {\n",
        "      \"name\": \"ID_usr\",\n",
        "      \"type\": \"int\"\n",
        "    },\n",
        "    {\n",
        "      \"name\": \"name\",\n",
        "      \"type\": \"string\"\n",
        "    }\n",
        "  ]\n",
        "}\n",
        "\"\"\"\n",
        "})\n",
        "\n",
        "context.append( {'role':'system', 'content':\"\"\"\n",
        "second table:\n",
        "{\n",
        "  \"tableName\": \"salary\",\n",
        "  \"fields\": [\n",
        "    {\n",
        "      \"name\": \"ID_usr\",\n",
        "      \"type\": \"int\"\n",
        "    },\n",
        "    {\n",
        "      \"name\": \"year\",\n",
        "      \"type\": \"date\"\n",
        "    },\n",
        "    {\n",
        "      \"name\": \"salary\",\n",
        "      \"type\": \"float\"\n",
        "    }\n",
        "  ]\n",
        "}\n",
        "\"\"\"\n",
        "})\n",
        "\n",
        "context.append( {'role':'system', 'content':\"\"\"\n",
        "third table:\n",
        "{\n",
        "  \"tablename\": \"studies\",\n",
        "  \"fields\": [\n",
        "    {\n",
        "      \"name\": \"ID\",\n",
        "      \"type\": \"int\"\n",
        "    },\n",
        "    {\n",
        "      \"name\": \"ID_usr\",\n",
        "      \"type\": \"int\"\n",
        "    },\n",
        "    {\n",
        "      \"name\": \"educational level\",\n",
        "      \"type\": \"int\"\n",
        "    },\n",
        "    {\n",
        "      \"name\": \"Institution\",\n",
        "      \"type\": \"string\"\n",
        "    },\n",
        "    {\n",
        "      \"name\": \"Years\",\n",
        "      \"type\": \"date\"\n",
        "    }\n",
        "    {\n",
        "      \"name\": \"Speciality\",\n",
        "      \"type\": \"string\"\n",
        "    }\n",
        "  ]\n",
        "}\n",
        "\"\"\"\n",
        "})"
      ],
      "metadata": {
        "id": "6evK6sd8E4Fc"
      },
      "execution_count": null,
      "outputs": []
    },
    {
      "cell_type": "code",
      "source": [
        "prompt = 'give me the name of the 5 employees with higher salary'"
      ],
      "metadata": {
        "id": "7p-VxAD7GByb"
      },
      "execution_count": null,
      "outputs": []
    },
    {
      "cell_type": "code",
      "source": [
        "context.append({'role':'user', 'content':f\"{prompt}.\"})\n",
        "response = continue_conversation(context)"
      ],
      "metadata": {
        "id": "0xesrbxwWpfd"
      },
      "execution_count": null,
      "outputs": []
    },
    {
      "cell_type": "code",
      "source": [
        "print(response)"
      ],
      "metadata": {
        "colab": {
          "base_uri": "https://localhost:8080/"
        },
        "id": "E4kfnR1rKdzI",
        "outputId": "9018d190-dae9-429b-ae1b-b779121958ce"
      },
      "execution_count": null,
      "outputs": [
        {
          "output_type": "stream",
          "name": "stdout",
          "text": [
            "This is your SQL:\n",
            "```sql\n",
            "SELECT e.name\n",
            "FROM employees e\n",
            "JOIN salary s ON e.ID_usr = s.ID_usr\n",
            "ORDER BY s.salary DESC\n",
            "LIMIT 5;\n",
            "```\n",
            "\n",
            "This SQL query retrieves the names of the 5 employees with the highest salary by joining the \"employees\" and \"salary\" tables on the employee ID, ordering the results by salary in descending order, and limiting the output to 5 rows.\n"
          ]
        }
      ]
    },
    {
      "cell_type": "code",
      "source": [
        "prompt = 'give me the employees graduates in 2017'"
      ],
      "metadata": {
        "id": "DckFGiQ4KNFD"
      },
      "execution_count": null,
      "outputs": []
    },
    {
      "cell_type": "code",
      "source": [
        "context.append({'role':'user', 'content':f\"{prompt}.\"})"
      ],
      "metadata": {
        "id": "Py5jSe4SKTXI"
      },
      "execution_count": null,
      "outputs": []
    },
    {
      "cell_type": "code",
      "source": [
        "response = continue_conversation(context)"
      ],
      "metadata": {
        "id": "3rRB8FBOKWFj"
      },
      "execution_count": null,
      "outputs": []
    },
    {
      "cell_type": "code",
      "source": [
        "print(response)"
      ],
      "metadata": {
        "colab": {
          "base_uri": "https://localhost:8080/"
        },
        "id": "XMMTzNnhKXM3",
        "outputId": "6c2b043c-5431-4385-d460-5461caa3c2bb"
      },
      "execution_count": null,
      "outputs": [
        {
          "output_type": "stream",
          "name": "stdout",
          "text": [
            "This is your SQL:\n",
            "```sql\n",
            "SELECT e.name\n",
            "FROM employees e\n",
            "JOIN studies st ON e.ID_usr = st.ID_usr\n",
            "WHERE st.Years = '2017';\n",
            "```\n",
            "\n",
            "This SQL query retrieves the names of employees who graduated in 2017 by joining the \"employees\" and \"studies\" tables on the employee ID and filtering the results to include only those with graduation year 2017.\n"
          ]
        }
      ]
    }
  ],
  "metadata": {
    "colab": {
      "provenance": [],
      "include_colab_link": true
    },
    "kernelspec": {
      "display_name": "Python 3",
      "name": "python3"
    },
    "language_info": {
      "name": "python"
    },
    "widgets": {
      "application/vnd.jupyter.widget-state+json": {
        "60f446b2e29a4f1c83102a79d4084792": {
          "model_module": "@jupyter-widgets/controls",
          "model_name": "HBoxModel",
          "model_module_version": "1.5.0",
          "state": {
            "_dom_classes": [],
            "_model_module": "@jupyter-widgets/controls",
            "_model_module_version": "1.5.0",
            "_model_name": "HBoxModel",
            "_view_count": null,
            "_view_module": "@jupyter-widgets/controls",
            "_view_module_version": "1.5.0",
            "_view_name": "HBoxView",
            "box_style": "",
            "children": [
              "IPY_MODEL_610b731363154e77b19d680dd37a5bb1",
              "IPY_MODEL_5d833b5c51734259a0cbbd13930e4044",
              "IPY_MODEL_d5d138b27e8040b98d0fe2f5ecdb8c78"
            ],
            "layout": "IPY_MODEL_baff8e3abdad4cac8b2409357bbf65b9"
          }
        },
        "610b731363154e77b19d680dd37a5bb1": {
          "model_module": "@jupyter-widgets/controls",
          "model_name": "HTMLModel",
          "model_module_version": "1.5.0",
          "state": {
            "_dom_classes": [],
            "_model_module": "@jupyter-widgets/controls",
            "_model_module_version": "1.5.0",
            "_model_name": "HTMLModel",
            "_view_count": null,
            "_view_module": "@jupyter-widgets/controls",
            "_view_module_version": "1.5.0",
            "_view_name": "HTMLView",
            "description": "",
            "description_tooltip": null,
            "layout": "IPY_MODEL_43d4e97f9d7e408a9f6e4eccabd5f5bf",
            "placeholder": "​",
            "style": "IPY_MODEL_a84ca44b2a014aac8de38a8bfc3d9d34",
            "value": "Downloading builder script: 100%"
          }
        },
        "5d833b5c51734259a0cbbd13930e4044": {
          "model_module": "@jupyter-widgets/controls",
          "model_name": "FloatProgressModel",
          "model_module_version": "1.5.0",
          "state": {
            "_dom_classes": [],
            "_model_module": "@jupyter-widgets/controls",
            "_model_module_version": "1.5.0",
            "_model_name": "FloatProgressModel",
            "_view_count": null,
            "_view_module": "@jupyter-widgets/controls",
            "_view_module_version": "1.5.0",
            "_view_name": "ProgressView",
            "bar_style": "success",
            "description": "",
            "description_tooltip": null,
            "layout": "IPY_MODEL_7df7bc13b5d04f51b68e930bb2e5b925",
            "max": 5937,
            "min": 0,
            "orientation": "horizontal",
            "style": "IPY_MODEL_23ec5409f8bf4111aad073705b40be53",
            "value": 5937
          }
        },
        "d5d138b27e8040b98d0fe2f5ecdb8c78": {
          "model_module": "@jupyter-widgets/controls",
          "model_name": "HTMLModel",
          "model_module_version": "1.5.0",
          "state": {
            "_dom_classes": [],
            "_model_module": "@jupyter-widgets/controls",
            "_model_module_version": "1.5.0",
            "_model_name": "HTMLModel",
            "_view_count": null,
            "_view_module": "@jupyter-widgets/controls",
            "_view_module_version": "1.5.0",
            "_view_name": "HTMLView",
            "description": "",
            "description_tooltip": null,
            "layout": "IPY_MODEL_561c8b16aa20401a96c26f90133e096c",
            "placeholder": "​",
            "style": "IPY_MODEL_056e40a1c9e64a2683d9e7e8f8b4ded3",
            "value": " 5.94k/5.94k [00:00&lt;00:00, 277kB/s]"
          }
        },
        "baff8e3abdad4cac8b2409357bbf65b9": {
          "model_module": "@jupyter-widgets/base",
          "model_name": "LayoutModel",
          "model_module_version": "1.2.0",
          "state": {
            "_model_module": "@jupyter-widgets/base",
            "_model_module_version": "1.2.0",
            "_model_name": "LayoutModel",
            "_view_count": null,
            "_view_module": "@jupyter-widgets/base",
            "_view_module_version": "1.2.0",
            "_view_name": "LayoutView",
            "align_content": null,
            "align_items": null,
            "align_self": null,
            "border": null,
            "bottom": null,
            "display": null,
            "flex": null,
            "flex_flow": null,
            "grid_area": null,
            "grid_auto_columns": null,
            "grid_auto_flow": null,
            "grid_auto_rows": null,
            "grid_column": null,
            "grid_gap": null,
            "grid_row": null,
            "grid_template_areas": null,
            "grid_template_columns": null,
            "grid_template_rows": null,
            "height": null,
            "justify_content": null,
            "justify_items": null,
            "left": null,
            "margin": null,
            "max_height": null,
            "max_width": null,
            "min_height": null,
            "min_width": null,
            "object_fit": null,
            "object_position": null,
            "order": null,
            "overflow": null,
            "overflow_x": null,
            "overflow_y": null,
            "padding": null,
            "right": null,
            "top": null,
            "visibility": null,
            "width": null
          }
        },
        "43d4e97f9d7e408a9f6e4eccabd5f5bf": {
          "model_module": "@jupyter-widgets/base",
          "model_name": "LayoutModel",
          "model_module_version": "1.2.0",
          "state": {
            "_model_module": "@jupyter-widgets/base",
            "_model_module_version": "1.2.0",
            "_model_name": "LayoutModel",
            "_view_count": null,
            "_view_module": "@jupyter-widgets/base",
            "_view_module_version": "1.2.0",
            "_view_name": "LayoutView",
            "align_content": null,
            "align_items": null,
            "align_self": null,
            "border": null,
            "bottom": null,
            "display": null,
            "flex": null,
            "flex_flow": null,
            "grid_area": null,
            "grid_auto_columns": null,
            "grid_auto_flow": null,
            "grid_auto_rows": null,
            "grid_column": null,
            "grid_gap": null,
            "grid_row": null,
            "grid_template_areas": null,
            "grid_template_columns": null,
            "grid_template_rows": null,
            "height": null,
            "justify_content": null,
            "justify_items": null,
            "left": null,
            "margin": null,
            "max_height": null,
            "max_width": null,
            "min_height": null,
            "min_width": null,
            "object_fit": null,
            "object_position": null,
            "order": null,
            "overflow": null,
            "overflow_x": null,
            "overflow_y": null,
            "padding": null,
            "right": null,
            "top": null,
            "visibility": null,
            "width": null
          }
        },
        "a84ca44b2a014aac8de38a8bfc3d9d34": {
          "model_module": "@jupyter-widgets/controls",
          "model_name": "DescriptionStyleModel",
          "model_module_version": "1.5.0",
          "state": {
            "_model_module": "@jupyter-widgets/controls",
            "_model_module_version": "1.5.0",
            "_model_name": "DescriptionStyleModel",
            "_view_count": null,
            "_view_module": "@jupyter-widgets/base",
            "_view_module_version": "1.2.0",
            "_view_name": "StyleView",
            "description_width": ""
          }
        },
        "7df7bc13b5d04f51b68e930bb2e5b925": {
          "model_module": "@jupyter-widgets/base",
          "model_name": "LayoutModel",
          "model_module_version": "1.2.0",
          "state": {
            "_model_module": "@jupyter-widgets/base",
            "_model_module_version": "1.2.0",
            "_model_name": "LayoutModel",
            "_view_count": null,
            "_view_module": "@jupyter-widgets/base",
            "_view_module_version": "1.2.0",
            "_view_name": "LayoutView",
            "align_content": null,
            "align_items": null,
            "align_self": null,
            "border": null,
            "bottom": null,
            "display": null,
            "flex": null,
            "flex_flow": null,
            "grid_area": null,
            "grid_auto_columns": null,
            "grid_auto_flow": null,
            "grid_auto_rows": null,
            "grid_column": null,
            "grid_gap": null,
            "grid_row": null,
            "grid_template_areas": null,
            "grid_template_columns": null,
            "grid_template_rows": null,
            "height": null,
            "justify_content": null,
            "justify_items": null,
            "left": null,
            "margin": null,
            "max_height": null,
            "max_width": null,
            "min_height": null,
            "min_width": null,
            "object_fit": null,
            "object_position": null,
            "order": null,
            "overflow": null,
            "overflow_x": null,
            "overflow_y": null,
            "padding": null,
            "right": null,
            "top": null,
            "visibility": null,
            "width": null
          }
        },
        "23ec5409f8bf4111aad073705b40be53": {
          "model_module": "@jupyter-widgets/controls",
          "model_name": "ProgressStyleModel",
          "model_module_version": "1.5.0",
          "state": {
            "_model_module": "@jupyter-widgets/controls",
            "_model_module_version": "1.5.0",
            "_model_name": "ProgressStyleModel",
            "_view_count": null,
            "_view_module": "@jupyter-widgets/base",
            "_view_module_version": "1.2.0",
            "_view_name": "StyleView",
            "bar_color": null,
            "description_width": ""
          }
        },
        "561c8b16aa20401a96c26f90133e096c": {
          "model_module": "@jupyter-widgets/base",
          "model_name": "LayoutModel",
          "model_module_version": "1.2.0",
          "state": {
            "_model_module": "@jupyter-widgets/base",
            "_model_module_version": "1.2.0",
            "_model_name": "LayoutModel",
            "_view_count": null,
            "_view_module": "@jupyter-widgets/base",
            "_view_module_version": "1.2.0",
            "_view_name": "LayoutView",
            "align_content": null,
            "align_items": null,
            "align_self": null,
            "border": null,
            "bottom": null,
            "display": null,
            "flex": null,
            "flex_flow": null,
            "grid_area": null,
            "grid_auto_columns": null,
            "grid_auto_flow": null,
            "grid_auto_rows": null,
            "grid_column": null,
            "grid_gap": null,
            "grid_row": null,
            "grid_template_areas": null,
            "grid_template_columns": null,
            "grid_template_rows": null,
            "height": null,
            "justify_content": null,
            "justify_items": null,
            "left": null,
            "margin": null,
            "max_height": null,
            "max_width": null,
            "min_height": null,
            "min_width": null,
            "object_fit": null,
            "object_position": null,
            "order": null,
            "overflow": null,
            "overflow_x": null,
            "overflow_y": null,
            "padding": null,
            "right": null,
            "top": null,
            "visibility": null,
            "width": null
          }
        },
        "056e40a1c9e64a2683d9e7e8f8b4ded3": {
          "model_module": "@jupyter-widgets/controls",
          "model_name": "DescriptionStyleModel",
          "model_module_version": "1.5.0",
          "state": {
            "_model_module": "@jupyter-widgets/controls",
            "_model_module_version": "1.5.0",
            "_model_name": "DescriptionStyleModel",
            "_view_count": null,
            "_view_module": "@jupyter-widgets/base",
            "_view_module_version": "1.2.0",
            "_view_name": "StyleView",
            "description_width": ""
          }
        },
        "3f0a2bf275814721a61789fbe512750a": {
          "model_module": "@jupyter-widgets/controls",
          "model_name": "HBoxModel",
          "model_module_version": "1.5.0",
          "state": {
            "_dom_classes": [],
            "_model_module": "@jupyter-widgets/controls",
            "_model_module_version": "1.5.0",
            "_model_name": "HBoxModel",
            "_view_count": null,
            "_view_module": "@jupyter-widgets/controls",
            "_view_module_version": "1.5.0",
            "_view_name": "HBoxView",
            "box_style": "",
            "children": [
              "IPY_MODEL_0aa3edaccf664221aec983b51c33aa1a",
              "IPY_MODEL_2af63c00f3d343fbba1cf50d8045aca1",
              "IPY_MODEL_11ab836951a94d7cb370072e446ace96"
            ],
            "layout": "IPY_MODEL_3d694f4b913d489da5c96b22d024d2ef"
          }
        },
        "0aa3edaccf664221aec983b51c33aa1a": {
          "model_module": "@jupyter-widgets/controls",
          "model_name": "HTMLModel",
          "model_module_version": "1.5.0",
          "state": {
            "_dom_classes": [],
            "_model_module": "@jupyter-widgets/controls",
            "_model_module_version": "1.5.0",
            "_model_name": "HTMLModel",
            "_view_count": null,
            "_view_module": "@jupyter-widgets/controls",
            "_view_module_version": "1.5.0",
            "_view_name": "HTMLView",
            "description": "",
            "description_tooltip": null,
            "layout": "IPY_MODEL_781c2bfa949b463dbf7aeebde280b651",
            "placeholder": "​",
            "style": "IPY_MODEL_a59a64aa4d0d48fa8fc2ba6b82c1d6b9",
            "value": "Downloading extra modules: "
          }
        },
        "2af63c00f3d343fbba1cf50d8045aca1": {
          "model_module": "@jupyter-widgets/controls",
          "model_name": "FloatProgressModel",
          "model_module_version": "1.5.0",
          "state": {
            "_dom_classes": [],
            "_model_module": "@jupyter-widgets/controls",
            "_model_module_version": "1.5.0",
            "_model_name": "FloatProgressModel",
            "_view_count": null,
            "_view_module": "@jupyter-widgets/controls",
            "_view_module_version": "1.5.0",
            "_view_name": "ProgressView",
            "bar_style": "success",
            "description": "",
            "description_tooltip": null,
            "layout": "IPY_MODEL_d7ca44e80ce94e79a8c4e025fc1b0583",
            "max": 1554,
            "min": 0,
            "orientation": "horizontal",
            "style": "IPY_MODEL_788d9a22764d47f79bec599844df0c65",
            "value": 1554
          }
        },
        "11ab836951a94d7cb370072e446ace96": {
          "model_module": "@jupyter-widgets/controls",
          "model_name": "HTMLModel",
          "model_module_version": "1.5.0",
          "state": {
            "_dom_classes": [],
            "_model_module": "@jupyter-widgets/controls",
            "_model_module_version": "1.5.0",
            "_model_name": "HTMLModel",
            "_view_count": null,
            "_view_module": "@jupyter-widgets/controls",
            "_view_module_version": "1.5.0",
            "_view_name": "HTMLView",
            "description": "",
            "description_tooltip": null,
            "layout": "IPY_MODEL_080289832cc7420db08465881ff3bdc8",
            "placeholder": "​",
            "style": "IPY_MODEL_bdbfcd4c57504d2e87f344acf689ef41",
            "value": " 4.07k/? [00:00&lt;00:00, 122kB/s]"
          }
        },
        "3d694f4b913d489da5c96b22d024d2ef": {
          "model_module": "@jupyter-widgets/base",
          "model_name": "LayoutModel",
          "model_module_version": "1.2.0",
          "state": {
            "_model_module": "@jupyter-widgets/base",
            "_model_module_version": "1.2.0",
            "_model_name": "LayoutModel",
            "_view_count": null,
            "_view_module": "@jupyter-widgets/base",
            "_view_module_version": "1.2.0",
            "_view_name": "LayoutView",
            "align_content": null,
            "align_items": null,
            "align_self": null,
            "border": null,
            "bottom": null,
            "display": null,
            "flex": null,
            "flex_flow": null,
            "grid_area": null,
            "grid_auto_columns": null,
            "grid_auto_flow": null,
            "grid_auto_rows": null,
            "grid_column": null,
            "grid_gap": null,
            "grid_row": null,
            "grid_template_areas": null,
            "grid_template_columns": null,
            "grid_template_rows": null,
            "height": null,
            "justify_content": null,
            "justify_items": null,
            "left": null,
            "margin": null,
            "max_height": null,
            "max_width": null,
            "min_height": null,
            "min_width": null,
            "object_fit": null,
            "object_position": null,
            "order": null,
            "overflow": null,
            "overflow_x": null,
            "overflow_y": null,
            "padding": null,
            "right": null,
            "top": null,
            "visibility": null,
            "width": null
          }
        },
        "781c2bfa949b463dbf7aeebde280b651": {
          "model_module": "@jupyter-widgets/base",
          "model_name": "LayoutModel",
          "model_module_version": "1.2.0",
          "state": {
            "_model_module": "@jupyter-widgets/base",
            "_model_module_version": "1.2.0",
            "_model_name": "LayoutModel",
            "_view_count": null,
            "_view_module": "@jupyter-widgets/base",
            "_view_module_version": "1.2.0",
            "_view_name": "LayoutView",
            "align_content": null,
            "align_items": null,
            "align_self": null,
            "border": null,
            "bottom": null,
            "display": null,
            "flex": null,
            "flex_flow": null,
            "grid_area": null,
            "grid_auto_columns": null,
            "grid_auto_flow": null,
            "grid_auto_rows": null,
            "grid_column": null,
            "grid_gap": null,
            "grid_row": null,
            "grid_template_areas": null,
            "grid_template_columns": null,
            "grid_template_rows": null,
            "height": null,
            "justify_content": null,
            "justify_items": null,
            "left": null,
            "margin": null,
            "max_height": null,
            "max_width": null,
            "min_height": null,
            "min_width": null,
            "object_fit": null,
            "object_position": null,
            "order": null,
            "overflow": null,
            "overflow_x": null,
            "overflow_y": null,
            "padding": null,
            "right": null,
            "top": null,
            "visibility": null,
            "width": null
          }
        },
        "a59a64aa4d0d48fa8fc2ba6b82c1d6b9": {
          "model_module": "@jupyter-widgets/controls",
          "model_name": "DescriptionStyleModel",
          "model_module_version": "1.5.0",
          "state": {
            "_model_module": "@jupyter-widgets/controls",
            "_model_module_version": "1.5.0",
            "_model_name": "DescriptionStyleModel",
            "_view_count": null,
            "_view_module": "@jupyter-widgets/base",
            "_view_module_version": "1.2.0",
            "_view_name": "StyleView",
            "description_width": ""
          }
        },
        "d7ca44e80ce94e79a8c4e025fc1b0583": {
          "model_module": "@jupyter-widgets/base",
          "model_name": "LayoutModel",
          "model_module_version": "1.2.0",
          "state": {
            "_model_module": "@jupyter-widgets/base",
            "_model_module_version": "1.2.0",
            "_model_name": "LayoutModel",
            "_view_count": null,
            "_view_module": "@jupyter-widgets/base",
            "_view_module_version": "1.2.0",
            "_view_name": "LayoutView",
            "align_content": null,
            "align_items": null,
            "align_self": null,
            "border": null,
            "bottom": null,
            "display": null,
            "flex": null,
            "flex_flow": null,
            "grid_area": null,
            "grid_auto_columns": null,
            "grid_auto_flow": null,
            "grid_auto_rows": null,
            "grid_column": null,
            "grid_gap": null,
            "grid_row": null,
            "grid_template_areas": null,
            "grid_template_columns": null,
            "grid_template_rows": null,
            "height": null,
            "justify_content": null,
            "justify_items": null,
            "left": null,
            "margin": null,
            "max_height": null,
            "max_width": null,
            "min_height": null,
            "min_width": null,
            "object_fit": null,
            "object_position": null,
            "order": null,
            "overflow": null,
            "overflow_x": null,
            "overflow_y": null,
            "padding": null,
            "right": null,
            "top": null,
            "visibility": null,
            "width": null
          }
        },
        "788d9a22764d47f79bec599844df0c65": {
          "model_module": "@jupyter-widgets/controls",
          "model_name": "ProgressStyleModel",
          "model_module_version": "1.5.0",
          "state": {
            "_model_module": "@jupyter-widgets/controls",
            "_model_module_version": "1.5.0",
            "_model_name": "ProgressStyleModel",
            "_view_count": null,
            "_view_module": "@jupyter-widgets/base",
            "_view_module_version": "1.2.0",
            "_view_name": "StyleView",
            "bar_color": null,
            "description_width": ""
          }
        },
        "080289832cc7420db08465881ff3bdc8": {
          "model_module": "@jupyter-widgets/base",
          "model_name": "LayoutModel",
          "model_module_version": "1.2.0",
          "state": {
            "_model_module": "@jupyter-widgets/base",
            "_model_module_version": "1.2.0",
            "_model_name": "LayoutModel",
            "_view_count": null,
            "_view_module": "@jupyter-widgets/base",
            "_view_module_version": "1.2.0",
            "_view_name": "LayoutView",
            "align_content": null,
            "align_items": null,
            "align_self": null,
            "border": null,
            "bottom": null,
            "display": null,
            "flex": null,
            "flex_flow": null,
            "grid_area": null,
            "grid_auto_columns": null,
            "grid_auto_flow": null,
            "grid_auto_rows": null,
            "grid_column": null,
            "grid_gap": null,
            "grid_row": null,
            "grid_template_areas": null,
            "grid_template_columns": null,
            "grid_template_rows": null,
            "height": null,
            "justify_content": null,
            "justify_items": null,
            "left": null,
            "margin": null,
            "max_height": null,
            "max_width": null,
            "min_height": null,
            "min_width": null,
            "object_fit": null,
            "object_position": null,
            "order": null,
            "overflow": null,
            "overflow_x": null,
            "overflow_y": null,
            "padding": null,
            "right": null,
            "top": null,
            "visibility": null,
            "width": null
          }
        },
        "bdbfcd4c57504d2e87f344acf689ef41": {
          "model_module": "@jupyter-widgets/controls",
          "model_name": "DescriptionStyleModel",
          "model_module_version": "1.5.0",
          "state": {
            "_model_module": "@jupyter-widgets/controls",
            "_model_module_version": "1.5.0",
            "_model_name": "DescriptionStyleModel",
            "_view_count": null,
            "_view_module": "@jupyter-widgets/base",
            "_view_module_version": "1.2.0",
            "_view_name": "StyleView",
            "description_width": ""
          }
        },
        "451db94ca6a94afda8bd739c538442ea": {
          "model_module": "@jupyter-widgets/controls",
          "model_name": "HBoxModel",
          "model_module_version": "1.5.0",
          "state": {
            "_dom_classes": [],
            "_model_module": "@jupyter-widgets/controls",
            "_model_module_version": "1.5.0",
            "_model_name": "HBoxModel",
            "_view_count": null,
            "_view_module": "@jupyter-widgets/controls",
            "_view_module_version": "1.5.0",
            "_view_name": "HBoxView",
            "box_style": "",
            "children": [
              "IPY_MODEL_444e175af05d45d9bfda4dba4135792f",
              "IPY_MODEL_4f6552c02fde46579f26ad89aff1528f",
              "IPY_MODEL_d24075f2f057410697a382b5a05e2e52"
            ],
            "layout": "IPY_MODEL_5c488b70138a4e1b9ac85d3854ed11a3"
          }
        },
        "444e175af05d45d9bfda4dba4135792f": {
          "model_module": "@jupyter-widgets/controls",
          "model_name": "HTMLModel",
          "model_module_version": "1.5.0",
          "state": {
            "_dom_classes": [],
            "_model_module": "@jupyter-widgets/controls",
            "_model_module_version": "1.5.0",
            "_model_name": "HTMLModel",
            "_view_count": null,
            "_view_module": "@jupyter-widgets/controls",
            "_view_module_version": "1.5.0",
            "_view_name": "HTMLView",
            "description": "",
            "description_tooltip": null,
            "layout": "IPY_MODEL_10e56a1b6f424f8e87d6f3b2886bcdc5",
            "placeholder": "​",
            "style": "IPY_MODEL_17037f2e01204fbe99db768b9755fa41",
            "value": "Downloading extra modules: 100%"
          }
        },
        "4f6552c02fde46579f26ad89aff1528f": {
          "model_module": "@jupyter-widgets/controls",
          "model_name": "FloatProgressModel",
          "model_module_version": "1.5.0",
          "state": {
            "_dom_classes": [],
            "_model_module": "@jupyter-widgets/controls",
            "_model_module_version": "1.5.0",
            "_model_name": "FloatProgressModel",
            "_view_count": null,
            "_view_module": "@jupyter-widgets/controls",
            "_view_module_version": "1.5.0",
            "_view_name": "ProgressView",
            "bar_style": "success",
            "description": "",
            "description_tooltip": null,
            "layout": "IPY_MODEL_8737b0ee137d4094bdccfcd8a64bdce4",
            "max": 3344,
            "min": 0,
            "orientation": "horizontal",
            "style": "IPY_MODEL_be849a29418847939e3cfec962680560",
            "value": 3344
          }
        },
        "d24075f2f057410697a382b5a05e2e52": {
          "model_module": "@jupyter-widgets/controls",
          "model_name": "HTMLModel",
          "model_module_version": "1.5.0",
          "state": {
            "_dom_classes": [],
            "_model_module": "@jupyter-widgets/controls",
            "_model_module_version": "1.5.0",
            "_model_name": "HTMLModel",
            "_view_count": null,
            "_view_module": "@jupyter-widgets/controls",
            "_view_module_version": "1.5.0",
            "_view_name": "HTMLView",
            "description": "",
            "description_tooltip": null,
            "layout": "IPY_MODEL_39b255731d5644969edb256212cd2d23",
            "placeholder": "​",
            "style": "IPY_MODEL_825e1d632b4c4071b16ef19aa47c08cb",
            "value": " 3.34k/3.34k [00:00&lt;00:00, 137kB/s]"
          }
        },
        "5c488b70138a4e1b9ac85d3854ed11a3": {
          "model_module": "@jupyter-widgets/base",
          "model_name": "LayoutModel",
          "model_module_version": "1.2.0",
          "state": {
            "_model_module": "@jupyter-widgets/base",
            "_model_module_version": "1.2.0",
            "_model_name": "LayoutModel",
            "_view_count": null,
            "_view_module": "@jupyter-widgets/base",
            "_view_module_version": "1.2.0",
            "_view_name": "LayoutView",
            "align_content": null,
            "align_items": null,
            "align_self": null,
            "border": null,
            "bottom": null,
            "display": null,
            "flex": null,
            "flex_flow": null,
            "grid_area": null,
            "grid_auto_columns": null,
            "grid_auto_flow": null,
            "grid_auto_rows": null,
            "grid_column": null,
            "grid_gap": null,
            "grid_row": null,
            "grid_template_areas": null,
            "grid_template_columns": null,
            "grid_template_rows": null,
            "height": null,
            "justify_content": null,
            "justify_items": null,
            "left": null,
            "margin": null,
            "max_height": null,
            "max_width": null,
            "min_height": null,
            "min_width": null,
            "object_fit": null,
            "object_position": null,
            "order": null,
            "overflow": null,
            "overflow_x": null,
            "overflow_y": null,
            "padding": null,
            "right": null,
            "top": null,
            "visibility": null,
            "width": null
          }
        },
        "10e56a1b6f424f8e87d6f3b2886bcdc5": {
          "model_module": "@jupyter-widgets/base",
          "model_name": "LayoutModel",
          "model_module_version": "1.2.0",
          "state": {
            "_model_module": "@jupyter-widgets/base",
            "_model_module_version": "1.2.0",
            "_model_name": "LayoutModel",
            "_view_count": null,
            "_view_module": "@jupyter-widgets/base",
            "_view_module_version": "1.2.0",
            "_view_name": "LayoutView",
            "align_content": null,
            "align_items": null,
            "align_self": null,
            "border": null,
            "bottom": null,
            "display": null,
            "flex": null,
            "flex_flow": null,
            "grid_area": null,
            "grid_auto_columns": null,
            "grid_auto_flow": null,
            "grid_auto_rows": null,
            "grid_column": null,
            "grid_gap": null,
            "grid_row": null,
            "grid_template_areas": null,
            "grid_template_columns": null,
            "grid_template_rows": null,
            "height": null,
            "justify_content": null,
            "justify_items": null,
            "left": null,
            "margin": null,
            "max_height": null,
            "max_width": null,
            "min_height": null,
            "min_width": null,
            "object_fit": null,
            "object_position": null,
            "order": null,
            "overflow": null,
            "overflow_x": null,
            "overflow_y": null,
            "padding": null,
            "right": null,
            "top": null,
            "visibility": null,
            "width": null
          }
        },
        "17037f2e01204fbe99db768b9755fa41": {
          "model_module": "@jupyter-widgets/controls",
          "model_name": "DescriptionStyleModel",
          "model_module_version": "1.5.0",
          "state": {
            "_model_module": "@jupyter-widgets/controls",
            "_model_module_version": "1.5.0",
            "_model_name": "DescriptionStyleModel",
            "_view_count": null,
            "_view_module": "@jupyter-widgets/base",
            "_view_module_version": "1.2.0",
            "_view_name": "StyleView",
            "description_width": ""
          }
        },
        "8737b0ee137d4094bdccfcd8a64bdce4": {
          "model_module": "@jupyter-widgets/base",
          "model_name": "LayoutModel",
          "model_module_version": "1.2.0",
          "state": {
            "_model_module": "@jupyter-widgets/base",
            "_model_module_version": "1.2.0",
            "_model_name": "LayoutModel",
            "_view_count": null,
            "_view_module": "@jupyter-widgets/base",
            "_view_module_version": "1.2.0",
            "_view_name": "LayoutView",
            "align_content": null,
            "align_items": null,
            "align_self": null,
            "border": null,
            "bottom": null,
            "display": null,
            "flex": null,
            "flex_flow": null,
            "grid_area": null,
            "grid_auto_columns": null,
            "grid_auto_flow": null,
            "grid_auto_rows": null,
            "grid_column": null,
            "grid_gap": null,
            "grid_row": null,
            "grid_template_areas": null,
            "grid_template_columns": null,
            "grid_template_rows": null,
            "height": null,
            "justify_content": null,
            "justify_items": null,
            "left": null,
            "margin": null,
            "max_height": null,
            "max_width": null,
            "min_height": null,
            "min_width": null,
            "object_fit": null,
            "object_position": null,
            "order": null,
            "overflow": null,
            "overflow_x": null,
            "overflow_y": null,
            "padding": null,
            "right": null,
            "top": null,
            "visibility": null,
            "width": null
          }
        },
        "be849a29418847939e3cfec962680560": {
          "model_module": "@jupyter-widgets/controls",
          "model_name": "ProgressStyleModel",
          "model_module_version": "1.5.0",
          "state": {
            "_model_module": "@jupyter-widgets/controls",
            "_model_module_version": "1.5.0",
            "_model_name": "ProgressStyleModel",
            "_view_count": null,
            "_view_module": "@jupyter-widgets/base",
            "_view_module_version": "1.2.0",
            "_view_name": "StyleView",
            "bar_color": null,
            "description_width": ""
          }
        },
        "39b255731d5644969edb256212cd2d23": {
          "model_module": "@jupyter-widgets/base",
          "model_name": "LayoutModel",
          "model_module_version": "1.2.0",
          "state": {
            "_model_module": "@jupyter-widgets/base",
            "_model_module_version": "1.2.0",
            "_model_name": "LayoutModel",
            "_view_count": null,
            "_view_module": "@jupyter-widgets/base",
            "_view_module_version": "1.2.0",
            "_view_name": "LayoutView",
            "align_content": null,
            "align_items": null,
            "align_self": null,
            "border": null,
            "bottom": null,
            "display": null,
            "flex": null,
            "flex_flow": null,
            "grid_area": null,
            "grid_auto_columns": null,
            "grid_auto_flow": null,
            "grid_auto_rows": null,
            "grid_column": null,
            "grid_gap": null,
            "grid_row": null,
            "grid_template_areas": null,
            "grid_template_columns": null,
            "grid_template_rows": null,
            "height": null,
            "justify_content": null,
            "justify_items": null,
            "left": null,
            "margin": null,
            "max_height": null,
            "max_width": null,
            "min_height": null,
            "min_width": null,
            "object_fit": null,
            "object_position": null,
            "order": null,
            "overflow": null,
            "overflow_x": null,
            "overflow_y": null,
            "padding": null,
            "right": null,
            "top": null,
            "visibility": null,
            "width": null
          }
        },
        "825e1d632b4c4071b16ef19aa47c08cb": {
          "model_module": "@jupyter-widgets/controls",
          "model_name": "DescriptionStyleModel",
          "model_module_version": "1.5.0",
          "state": {
            "_model_module": "@jupyter-widgets/controls",
            "_model_module_version": "1.5.0",
            "_model_name": "DescriptionStyleModel",
            "_view_count": null,
            "_view_module": "@jupyter-widgets/base",
            "_view_module_version": "1.2.0",
            "_view_name": "StyleView",
            "description_width": ""
          }
        }
      }
    }
  },
  "nbformat": 4,
  "nbformat_minor": 0
}